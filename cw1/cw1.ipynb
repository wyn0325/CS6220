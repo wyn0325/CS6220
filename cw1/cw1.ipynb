{
 "cells": [
  {
   "cell_type": "markdown",
   "metadata": {},
   "source": [
    "# Exploring the MovieLens 1M Dataset\n"
   ]
  },
  {
   "cell_type": "markdown",
   "metadata": {},
   "source": [
    "Let's begin by importing pandas. It is conventional to use *pd* to denote pandas"
   ]
  },
  {
   "cell_type": "code",
   "execution_count": 4,
   "outputs": [],
   "source": [
    "import pandas as pd\n",
    "\n",
    "unames = ['user_id', 'gender', 'age', 'occupation', 'zip']\n",
    "users = pd.read_table('users.dat', sep='::', header=None, names=unames, engine='python')\n",
    "\n",
    "rnames = ['user_id', 'movie_id', 'rating', 'timestamp']\n",
    "ratings = pd.read_table('ratings.dat', sep='::', header=None, names=rnames, engine='python')\n",
    "\n",
    "mnames = ['movie_id', 'title', 'genres']\n",
    "movies = pd.read_table('movies.dat', sep='::', header=None, names=mnames, engine='python')\n",
    "\n",
    "data = pd.merge(pd.merge(ratings, users), movies)"
   ],
   "metadata": {
    "collapsed": false,
    "pycharm": {
     "name": "#%%\n"
    }
   }
  },
  {
   "cell_type": "markdown",
   "metadata": {},
   "source": [
    "1.An aggregate on the number of rating done for each particular genre, e.g.,\n",
    "Action, Adventure, Drama, Science Fiction,…"
   ]
  },
  {
   "cell_type": "code",
   "execution_count": 5,
   "metadata": {
    "collapsed": false
   },
   "outputs": [
    {
     "data": {
      "text/plain": "                                               user_id  movie_id  rating  \\\ngenres                                                                     \nAction                                           12311     12311   12311   \nAction|Adventure                                 10446     10446   10446   \nAction|Adventure|Animation                         345       345     345   \nAction|Adventure|Animation|Children's|Fantasy      135       135     135   \nAction|Adventure|Animation|Horror|Sci-Fi           618       618     618   \n...                                                ...       ...     ...   \nSci-Fi|Thriller|War                                280       280     280   \nSci-Fi|War                                        1367      1367    1367   \nThriller                                         17851     17851   17851   \nWar                                                991       991     991   \nWestern                                           5689      5689    5689   \n\n                                               timestamp  gender    age  \\\ngenres                                                                    \nAction                                             12311   12311  12311   \nAction|Adventure                                   10446   10446  10446   \nAction|Adventure|Animation                           345     345    345   \nAction|Adventure|Animation|Children's|Fantasy        135     135    135   \nAction|Adventure|Animation|Horror|Sci-Fi             618     618    618   \n...                                                  ...     ...    ...   \nSci-Fi|Thriller|War                                  280     280    280   \nSci-Fi|War                                          1367    1367   1367   \nThriller                                           17851   17851  17851   \nWar                                                  991     991    991   \nWestern                                             5689    5689   5689   \n\n                                               occupation    zip  title  \ngenres                                                                   \nAction                                              12311  12311  12311  \nAction|Adventure                                    10446  10446  10446  \nAction|Adventure|Animation                            345    345    345  \nAction|Adventure|Animation|Children's|Fantasy         135    135    135  \nAction|Adventure|Animation|Horror|Sci-Fi              618    618    618  \n...                                                   ...    ...    ...  \nSci-Fi|Thriller|War                                   280    280    280  \nSci-Fi|War                                           1367   1367   1367  \nThriller                                            17851  17851  17851  \nWar                                                   991    991    991  \nWestern                                              5689   5689   5689  \n\n[301 rows x 9 columns]",
      "text/html": "<div>\n<style scoped>\n    .dataframe tbody tr th:only-of-type {\n        vertical-align: middle;\n    }\n\n    .dataframe tbody tr th {\n        vertical-align: top;\n    }\n\n    .dataframe thead th {\n        text-align: right;\n    }\n</style>\n<table border=\"1\" class=\"dataframe\">\n  <thead>\n    <tr style=\"text-align: right;\">\n      <th></th>\n      <th>user_id</th>\n      <th>movie_id</th>\n      <th>rating</th>\n      <th>timestamp</th>\n      <th>gender</th>\n      <th>age</th>\n      <th>occupation</th>\n      <th>zip</th>\n      <th>title</th>\n    </tr>\n    <tr>\n      <th>genres</th>\n      <th></th>\n      <th></th>\n      <th></th>\n      <th></th>\n      <th></th>\n      <th></th>\n      <th></th>\n      <th></th>\n      <th></th>\n    </tr>\n  </thead>\n  <tbody>\n    <tr>\n      <th>Action</th>\n      <td>12311</td>\n      <td>12311</td>\n      <td>12311</td>\n      <td>12311</td>\n      <td>12311</td>\n      <td>12311</td>\n      <td>12311</td>\n      <td>12311</td>\n      <td>12311</td>\n    </tr>\n    <tr>\n      <th>Action|Adventure</th>\n      <td>10446</td>\n      <td>10446</td>\n      <td>10446</td>\n      <td>10446</td>\n      <td>10446</td>\n      <td>10446</td>\n      <td>10446</td>\n      <td>10446</td>\n      <td>10446</td>\n    </tr>\n    <tr>\n      <th>Action|Adventure|Animation</th>\n      <td>345</td>\n      <td>345</td>\n      <td>345</td>\n      <td>345</td>\n      <td>345</td>\n      <td>345</td>\n      <td>345</td>\n      <td>345</td>\n      <td>345</td>\n    </tr>\n    <tr>\n      <th>Action|Adventure|Animation|Children's|Fantasy</th>\n      <td>135</td>\n      <td>135</td>\n      <td>135</td>\n      <td>135</td>\n      <td>135</td>\n      <td>135</td>\n      <td>135</td>\n      <td>135</td>\n      <td>135</td>\n    </tr>\n    <tr>\n      <th>Action|Adventure|Animation|Horror|Sci-Fi</th>\n      <td>618</td>\n      <td>618</td>\n      <td>618</td>\n      <td>618</td>\n      <td>618</td>\n      <td>618</td>\n      <td>618</td>\n      <td>618</td>\n      <td>618</td>\n    </tr>\n    <tr>\n      <th>...</th>\n      <td>...</td>\n      <td>...</td>\n      <td>...</td>\n      <td>...</td>\n      <td>...</td>\n      <td>...</td>\n      <td>...</td>\n      <td>...</td>\n      <td>...</td>\n    </tr>\n    <tr>\n      <th>Sci-Fi|Thriller|War</th>\n      <td>280</td>\n      <td>280</td>\n      <td>280</td>\n      <td>280</td>\n      <td>280</td>\n      <td>280</td>\n      <td>280</td>\n      <td>280</td>\n      <td>280</td>\n    </tr>\n    <tr>\n      <th>Sci-Fi|War</th>\n      <td>1367</td>\n      <td>1367</td>\n      <td>1367</td>\n      <td>1367</td>\n      <td>1367</td>\n      <td>1367</td>\n      <td>1367</td>\n      <td>1367</td>\n      <td>1367</td>\n    </tr>\n    <tr>\n      <th>Thriller</th>\n      <td>17851</td>\n      <td>17851</td>\n      <td>17851</td>\n      <td>17851</td>\n      <td>17851</td>\n      <td>17851</td>\n      <td>17851</td>\n      <td>17851</td>\n      <td>17851</td>\n    </tr>\n    <tr>\n      <th>War</th>\n      <td>991</td>\n      <td>991</td>\n      <td>991</td>\n      <td>991</td>\n      <td>991</td>\n      <td>991</td>\n      <td>991</td>\n      <td>991</td>\n      <td>991</td>\n    </tr>\n    <tr>\n      <th>Western</th>\n      <td>5689</td>\n      <td>5689</td>\n      <td>5689</td>\n      <td>5689</td>\n      <td>5689</td>\n      <td>5689</td>\n      <td>5689</td>\n      <td>5689</td>\n      <td>5689</td>\n    </tr>\n  </tbody>\n</table>\n<p>301 rows × 9 columns</p>\n</div>"
     },
     "execution_count": 5,
     "metadata": {},
     "output_type": "execute_result"
    }
   ],
   "source": [
    "data.groupby(['genres']).count()"
   ]
  },
  {
   "cell_type": "markdown",
   "metadata": {},
   "source": [
    "2.The top 5 ranked genres by women on most number of rating."
   ]
  },
  {
   "cell_type": "code",
   "execution_count": 6,
   "metadata": {
    "collapsed": false
   },
   "outputs": [
    {
     "data": {
      "text/plain": "        user_id  movie_id  rating  timestamp gender  age  occupation    zip  \\\n0             1      1193       5  978300760      F    1          10  48067   \n399110      175      1343       5  977115555      F   25           2  95123   \n399355     2609      1343       5  973725840      F   50          12  55391   \n399335     2408      1343       5  974254826      F   45           1  01609   \n399328     2322      1343       5  974465496      F   56          13  48105   \n\n                                         title    genres  \n0       One Flew Over the Cuckoo's Nest (1975)     Drama  \n399110                        Cape Fear (1991)  Thriller  \n399355                        Cape Fear (1991)  Thriller  \n399335                        Cape Fear (1991)  Thriller  \n399328                        Cape Fear (1991)  Thriller  ",
      "text/html": "<div>\n<style scoped>\n    .dataframe tbody tr th:only-of-type {\n        vertical-align: middle;\n    }\n\n    .dataframe tbody tr th {\n        vertical-align: top;\n    }\n\n    .dataframe thead th {\n        text-align: right;\n    }\n</style>\n<table border=\"1\" class=\"dataframe\">\n  <thead>\n    <tr style=\"text-align: right;\">\n      <th></th>\n      <th>user_id</th>\n      <th>movie_id</th>\n      <th>rating</th>\n      <th>timestamp</th>\n      <th>gender</th>\n      <th>age</th>\n      <th>occupation</th>\n      <th>zip</th>\n      <th>title</th>\n      <th>genres</th>\n    </tr>\n  </thead>\n  <tbody>\n    <tr>\n      <th>0</th>\n      <td>1</td>\n      <td>1193</td>\n      <td>5</td>\n      <td>978300760</td>\n      <td>F</td>\n      <td>1</td>\n      <td>10</td>\n      <td>48067</td>\n      <td>One Flew Over the Cuckoo's Nest (1975)</td>\n      <td>Drama</td>\n    </tr>\n    <tr>\n      <th>399110</th>\n      <td>175</td>\n      <td>1343</td>\n      <td>5</td>\n      <td>977115555</td>\n      <td>F</td>\n      <td>25</td>\n      <td>2</td>\n      <td>95123</td>\n      <td>Cape Fear (1991)</td>\n      <td>Thriller</td>\n    </tr>\n    <tr>\n      <th>399355</th>\n      <td>2609</td>\n      <td>1343</td>\n      <td>5</td>\n      <td>973725840</td>\n      <td>F</td>\n      <td>50</td>\n      <td>12</td>\n      <td>55391</td>\n      <td>Cape Fear (1991)</td>\n      <td>Thriller</td>\n    </tr>\n    <tr>\n      <th>399335</th>\n      <td>2408</td>\n      <td>1343</td>\n      <td>5</td>\n      <td>974254826</td>\n      <td>F</td>\n      <td>45</td>\n      <td>1</td>\n      <td>01609</td>\n      <td>Cape Fear (1991)</td>\n      <td>Thriller</td>\n    </tr>\n    <tr>\n      <th>399328</th>\n      <td>2322</td>\n      <td>1343</td>\n      <td>5</td>\n      <td>974465496</td>\n      <td>F</td>\n      <td>56</td>\n      <td>13</td>\n      <td>48105</td>\n      <td>Cape Fear (1991)</td>\n      <td>Thriller</td>\n    </tr>\n  </tbody>\n</table>\n</div>"
     },
     "execution_count": 6,
     "metadata": {},
     "output_type": "execute_result"
    }
   ],
   "source": [
    "genderF=data.loc[data[\"gender\"] == \"F\"]\n",
    "genderF.sort_values([\"rating\"],ascending=False).head(5)"
   ]
  },
  {
   "cell_type": "markdown",
   "metadata": {},
   "source": [
    "3.The top 5 ranked genres by men on most number of rating."
   ]
  },
  {
   "cell_type": "code",
   "execution_count": 7,
   "metadata": {
    "collapsed": false
   },
   "outputs": [
    {
     "data": {
      "text/plain": "        user_id  movie_id  rating  timestamp gender  age  occupation    zip  \\\n1             2      1193       5  978298413      M   56          16  70072   \n229230     1671        39       5  974712422      M   35           0  98368   \n229333     2077        39       5  979972045      M   18           0  55112   \n667100     5475      2248       5  960938844      M   25           4  94110   \n667094     5421      2248       5  960154396      M   35          17  22030   \n\n                                         title                genres  \n1       One Flew Over the Cuckoo's Nest (1975)                 Drama  \n229230                         Clueless (1995)        Comedy|Romance  \n229333                         Clueless (1995)        Comedy|Romance  \n667100                  Say Anything... (1989)  Comedy|Drama|Romance  \n667094                  Say Anything... (1989)  Comedy|Drama|Romance  ",
      "text/html": "<div>\n<style scoped>\n    .dataframe tbody tr th:only-of-type {\n        vertical-align: middle;\n    }\n\n    .dataframe tbody tr th {\n        vertical-align: top;\n    }\n\n    .dataframe thead th {\n        text-align: right;\n    }\n</style>\n<table border=\"1\" class=\"dataframe\">\n  <thead>\n    <tr style=\"text-align: right;\">\n      <th></th>\n      <th>user_id</th>\n      <th>movie_id</th>\n      <th>rating</th>\n      <th>timestamp</th>\n      <th>gender</th>\n      <th>age</th>\n      <th>occupation</th>\n      <th>zip</th>\n      <th>title</th>\n      <th>genres</th>\n    </tr>\n  </thead>\n  <tbody>\n    <tr>\n      <th>1</th>\n      <td>2</td>\n      <td>1193</td>\n      <td>5</td>\n      <td>978298413</td>\n      <td>M</td>\n      <td>56</td>\n      <td>16</td>\n      <td>70072</td>\n      <td>One Flew Over the Cuckoo's Nest (1975)</td>\n      <td>Drama</td>\n    </tr>\n    <tr>\n      <th>229230</th>\n      <td>1671</td>\n      <td>39</td>\n      <td>5</td>\n      <td>974712422</td>\n      <td>M</td>\n      <td>35</td>\n      <td>0</td>\n      <td>98368</td>\n      <td>Clueless (1995)</td>\n      <td>Comedy|Romance</td>\n    </tr>\n    <tr>\n      <th>229333</th>\n      <td>2077</td>\n      <td>39</td>\n      <td>5</td>\n      <td>979972045</td>\n      <td>M</td>\n      <td>18</td>\n      <td>0</td>\n      <td>55112</td>\n      <td>Clueless (1995)</td>\n      <td>Comedy|Romance</td>\n    </tr>\n    <tr>\n      <th>667100</th>\n      <td>5475</td>\n      <td>2248</td>\n      <td>5</td>\n      <td>960938844</td>\n      <td>M</td>\n      <td>25</td>\n      <td>4</td>\n      <td>94110</td>\n      <td>Say Anything... (1989)</td>\n      <td>Comedy|Drama|Romance</td>\n    </tr>\n    <tr>\n      <th>667094</th>\n      <td>5421</td>\n      <td>2248</td>\n      <td>5</td>\n      <td>960154396</td>\n      <td>M</td>\n      <td>35</td>\n      <td>17</td>\n      <td>22030</td>\n      <td>Say Anything... (1989)</td>\n      <td>Comedy|Drama|Romance</td>\n    </tr>\n  </tbody>\n</table>\n</div>"
     },
     "execution_count": 7,
     "metadata": {},
     "output_type": "execute_result"
    }
   ],
   "source": [
    "genderM=data.loc[data[\"gender\"] == \"M\"]\n",
    "genderM.sort_values([\"rating\"],ascending=False).head(5)"
   ]
  },
  {
   "cell_type": "markdown",
   "metadata": {},
   "source": [
    "4.Pick a genre of your choice and provide average movie’s ratings by the following\n",
    "four time intervals during which the movies were released\n",
    "(a) 1970 to 1979"
   ]
  },
  {
   "cell_type": "code",
   "execution_count": 9,
   "outputs": [
    {
     "data": {
      "text/plain": "3.9167029458714264"
     },
     "execution_count": 9,
     "metadata": {},
     "output_type": "execute_result"
    }
   ],
   "source": [
    "data['title']=data['title'].str.slice(-5,-1).astype('int')\n",
    "genre1=data.loc[(data[\"genres\"] == \"Drama\") & (data[\"title\"] >= 1970) & (data[\"title\"] <= 1979)]\n",
    "genre1[\"rating\"].mean()\n"
   ],
   "metadata": {
    "collapsed": false,
    "pycharm": {
     "name": "#%%\n"
    }
   }
  },
  {
   "cell_type": "markdown",
   "metadata": {
    "collapsed": false,
    "pycharm": {
     "name": "#%% md\n"
    }
   },
   "source": [
    "(b) 1980 to 1989"
   ]
  },
  {
   "cell_type": "code",
   "execution_count": 17,
   "outputs": [
    {
     "data": {
      "text/plain": "3.775669352742397"
     },
     "execution_count": 17,
     "metadata": {},
     "output_type": "execute_result"
    }
   ],
   "source": [
    "genre2=data.loc[(data[\"genres\"] == \"Drama\") & (data[\"title\"] >= 1980) & (data[\"title\"] <= 1989)]\n",
    "genre2[\"rating\"].mean()\n"
   ],
   "metadata": {
    "collapsed": false,
    "pycharm": {
     "name": "#%%\n"
    }
   }
  },
  {
   "cell_type": "markdown",
   "source": [
    "(c) 1990 to 1999\n"
   ],
   "metadata": {
    "collapsed": false
   }
  },
  {
   "cell_type": "code",
   "execution_count": 18,
   "outputs": [
    {
     "data": {
      "text/plain": "3.7056136079801445"
     },
     "execution_count": 18,
     "metadata": {},
     "output_type": "execute_result"
    }
   ],
   "source": [
    "genre3=data.loc[(data[\"genres\"] == \"Drama\") & (data[\"title\"] >= 1990) & (data[\"title\"] <= 1999)]\n",
    "genre3[\"rating\"].mean()"
   ],
   "metadata": {
    "collapsed": false,
    "pycharm": {
     "name": "#%%\n"
    }
   }
  },
  {
   "cell_type": "markdown",
   "source": [
    "(d) 2000 to 2009\n"
   ],
   "metadata": {
    "collapsed": false
   }
  },
  {
   "cell_type": "code",
   "execution_count": 19,
   "metadata": {
    "collapsed": false
   },
   "outputs": [
    {
     "data": {
      "text/plain": "3.626737427343947"
     },
     "execution_count": 19,
     "metadata": {},
     "output_type": "execute_result"
    }
   ],
   "source": [
    "genre4=data.loc[(data[\"genres\"] == \"Drama\") & (data[\"title\"] >= 2000) & (data[\"title\"] <= 2009)]\n",
    "genre4[\"rating\"].mean()"
   ]
  },
  {
   "cell_type": "markdown",
   "metadata": {},
   "source": [
    "5.A function that given a genre and a rating_range (i.e. [3.5, 4]), returns all\n",
    "the movies of that genre and within that rating range sorted by average rating. Using\n",
    "an example, demonstrate that your function works."
   ]
  },
  {
   "cell_type": "code",
   "execution_count": 14,
   "metadata": {
    "collapsed": false
   },
   "outputs": [
    {
     "data": {
      "text/plain": "         user_id  movie_id  rating  timestamp gender  age  occupation    zip  \\\n2             12      1193     4.0  978220179      M   25          12  32793   \n3             15      1193     4.0  978199279      M   25           7  22903   \n5             18      1193     4.0  978156168      F   18           3  95825   \n12            44      1193     4.0  978018995      M   45          17  98052   \n13            47      1193     4.0  977978345      M   18           4  94305   \n...          ...       ...     ...        ...    ...  ...         ...    ...   \n1000151     4169       530     4.0  976589311      M   50           0  66048   \n1000165     4572      3164     4.0  964460301      F    1          10  17036   \n1000169     4888       439     4.0  962737163      F   56           0  08055   \n1000173     5146      2480     4.0  962722549      M   56           1  04240   \n1000177     4816      2309     4.0  965869069      F   45           6  04240   \n\n         title genres  \n2         1975  Drama  \n3         1975  Drama  \n5         1975  Drama  \n12        1975  Drama  \n13        1975  Drama  \n...        ...    ...  \n1000151   1994  Drama  \n1000165   1968  Drama  \n1000169   1993  Drama  \n1000173   1997  Drama  \n1000177   1998  Drama  \n\n[42880 rows x 10 columns]",
      "text/html": "<div>\n<style scoped>\n    .dataframe tbody tr th:only-of-type {\n        vertical-align: middle;\n    }\n\n    .dataframe tbody tr th {\n        vertical-align: top;\n    }\n\n    .dataframe thead th {\n        text-align: right;\n    }\n</style>\n<table border=\"1\" class=\"dataframe\">\n  <thead>\n    <tr style=\"text-align: right;\">\n      <th></th>\n      <th>user_id</th>\n      <th>movie_id</th>\n      <th>rating</th>\n      <th>timestamp</th>\n      <th>gender</th>\n      <th>age</th>\n      <th>occupation</th>\n      <th>zip</th>\n      <th>title</th>\n      <th>genres</th>\n    </tr>\n  </thead>\n  <tbody>\n    <tr>\n      <th>2</th>\n      <td>12</td>\n      <td>1193</td>\n      <td>4.0</td>\n      <td>978220179</td>\n      <td>M</td>\n      <td>25</td>\n      <td>12</td>\n      <td>32793</td>\n      <td>1975</td>\n      <td>Drama</td>\n    </tr>\n    <tr>\n      <th>3</th>\n      <td>15</td>\n      <td>1193</td>\n      <td>4.0</td>\n      <td>978199279</td>\n      <td>M</td>\n      <td>25</td>\n      <td>7</td>\n      <td>22903</td>\n      <td>1975</td>\n      <td>Drama</td>\n    </tr>\n    <tr>\n      <th>5</th>\n      <td>18</td>\n      <td>1193</td>\n      <td>4.0</td>\n      <td>978156168</td>\n      <td>F</td>\n      <td>18</td>\n      <td>3</td>\n      <td>95825</td>\n      <td>1975</td>\n      <td>Drama</td>\n    </tr>\n    <tr>\n      <th>12</th>\n      <td>44</td>\n      <td>1193</td>\n      <td>4.0</td>\n      <td>978018995</td>\n      <td>M</td>\n      <td>45</td>\n      <td>17</td>\n      <td>98052</td>\n      <td>1975</td>\n      <td>Drama</td>\n    </tr>\n    <tr>\n      <th>13</th>\n      <td>47</td>\n      <td>1193</td>\n      <td>4.0</td>\n      <td>977978345</td>\n      <td>M</td>\n      <td>18</td>\n      <td>4</td>\n      <td>94305</td>\n      <td>1975</td>\n      <td>Drama</td>\n    </tr>\n    <tr>\n      <th>...</th>\n      <td>...</td>\n      <td>...</td>\n      <td>...</td>\n      <td>...</td>\n      <td>...</td>\n      <td>...</td>\n      <td>...</td>\n      <td>...</td>\n      <td>...</td>\n      <td>...</td>\n    </tr>\n    <tr>\n      <th>1000151</th>\n      <td>4169</td>\n      <td>530</td>\n      <td>4.0</td>\n      <td>976589311</td>\n      <td>M</td>\n      <td>50</td>\n      <td>0</td>\n      <td>66048</td>\n      <td>1994</td>\n      <td>Drama</td>\n    </tr>\n    <tr>\n      <th>1000165</th>\n      <td>4572</td>\n      <td>3164</td>\n      <td>4.0</td>\n      <td>964460301</td>\n      <td>F</td>\n      <td>1</td>\n      <td>10</td>\n      <td>17036</td>\n      <td>1968</td>\n      <td>Drama</td>\n    </tr>\n    <tr>\n      <th>1000169</th>\n      <td>4888</td>\n      <td>439</td>\n      <td>4.0</td>\n      <td>962737163</td>\n      <td>F</td>\n      <td>56</td>\n      <td>0</td>\n      <td>08055</td>\n      <td>1993</td>\n      <td>Drama</td>\n    </tr>\n    <tr>\n      <th>1000173</th>\n      <td>5146</td>\n      <td>2480</td>\n      <td>4.0</td>\n      <td>962722549</td>\n      <td>M</td>\n      <td>56</td>\n      <td>1</td>\n      <td>04240</td>\n      <td>1997</td>\n      <td>Drama</td>\n    </tr>\n    <tr>\n      <th>1000177</th>\n      <td>4816</td>\n      <td>2309</td>\n      <td>4.0</td>\n      <td>965869069</td>\n      <td>F</td>\n      <td>45</td>\n      <td>6</td>\n      <td>04240</td>\n      <td>1998</td>\n      <td>Drama</td>\n    </tr>\n  </tbody>\n</table>\n<p>42880 rows × 10 columns</p>\n</div>"
     },
     "execution_count": 14,
     "metadata": {},
     "output_type": "execute_result"
    }
   ],
   "source": [
    "def pickMovies(genre,rating_range):\n",
    "    rating_range=rating_range.lstrip (\"[\").rstrip (\"]\")\n",
    "    ratingLeft=float(rating_range.split(\",\")[0])\n",
    "    ratingRight = float(rating_range.split(\",\")[1])\n",
    "    data[\"rating\"]=data[\"rating\"].astype(float)\n",
    "    movies=data.loc[(data[\"genres\"] == genre) & (data[\"rating\"] >= ratingLeft) & (data[\"rating\"] <= ratingRight)]\n",
    "    return movies\n",
    "\n",
    "pickMovies('Drama','[3.5,4]')"
   ]
  },
  {
   "cell_type": "markdown",
   "metadata": {},
   "source": [
    "6.Present one other statistic, figure, aggregate, or plot that you created using\n",
    "this dataset, along with a short description of what interesting observations you derived\n",
    "from it. This question is meant to give you a freehand to explore and present aspects\n",
    "of the dataset that interests you."
   ]
  },
  {
   "cell_type": "code",
   "execution_count": 15,
   "metadata": {
    "collapsed": false,
    "pycharm": {
     "name": "#%%\n"
    }
   },
   "outputs": [
    {
     "data": {
      "text/plain": "<Figure size 640x480 with 1 Axes>"
     },
     "metadata": {},
     "output_type": "display_data"
    }
   ],
   "source": [
    "#Movie watching line chart by age\n",
    "#The figure is cw1(6).png\n",
    "import matplotlib.pyplot as plt\n",
    "dataA=data[\"age\"].value_counts()\n",
    "dataA=pd.DataFrame(dataA).reset_index()\n",
    "dataA.columns =[\"age\",\"count\"]\n",
    "dataA[\"age\"]=dataA[\"age\"].astype(int)\n",
    "dataA=dataA.sort_values([\"age\"],ascending=False)\n",
    "plt.figure()\n",
    "plt.plot(dataA[\"age\"],dataA[\"count\"])\n",
    "plt.title('Movie watching line chart by age')\n",
    "plt.xlabel('age')\n",
    "plt.ylabel('count')\n",
    "plt.show()"
   ]
  }
 ],
 "metadata": {
  "kernelspec": {
   "name": "python3",
   "language": "python",
   "display_name": "Python 3"
  },
  "language_info": {
   "codemirror_mode": {
    "name": "ipython",
    "version": 2
   },
   "file_extension": ".py",
   "mimetype": "text/x-python",
   "name": "python",
   "nbconvert_exporter": "python",
   "pygments_lexer": "ipython2",
   "version": "2.7.11"
  }
 },
 "nbformat": 4,
 "nbformat_minor": 0
}