{
 "cells": [
  {
   "cell_type": "markdown",
   "source": [
    "# Wangyinan-coursework3"
   ],
   "metadata": {
    "collapsed": false
   }
  },
  {
   "cell_type": "markdown",
   "source": [
    "Load Dataset"
   ],
   "metadata": {
    "collapsed": false
   }
  },
  {
   "cell_type": "code",
   "execution_count": 1,
   "outputs": [],
   "source": [
    "from sklearn.datasets import load_iris\n",
    "iris = load_iris()\n",
    "iris_data = iris['data']\n",
    "iris_target = iris['target']\n",
    "iris_names = iris['feature_names']"
   ],
   "metadata": {
    "collapsed": false,
    "pycharm": {
     "name": "#%%\n"
    }
   }
  },
  {
   "cell_type": "markdown",
   "source": [
    "Part 1 - PCA"
   ],
   "metadata": {
    "collapsed": false
   }
  },
  {
   "cell_type": "markdown",
   "source": [
    "1. Apply PCA projection of the features of IRIS dataset in 2 dimensions\n"
   ],
   "metadata": {
    "collapsed": false
   }
  },
  {
   "cell_type": "code",
   "execution_count": 2,
   "outputs": [
    {
     "data": {
      "text/plain": "PCA(n_components=2)"
     },
     "execution_count": 2,
     "metadata": {},
     "output_type": "execute_result"
    }
   ],
   "source": [
    "from sklearn.decomposition import PCA\n",
    "pca = PCA(n_components=2)\n",
    "pca.fit(iris_data)"
   ],
   "metadata": {
    "collapsed": false,
    "pycharm": {
     "name": "#%%\n"
    }
   }
  },
  {
   "cell_type": "markdown",
   "source": [
    "2. Show how much variance ratio is explained by the reduced dimension.\n"
   ],
   "metadata": {
    "collapsed": false
   }
  },
  {
   "cell_type": "code",
   "execution_count": 3,
   "outputs": [
    {
     "name": "stdout",
     "output_type": "stream",
     "text": [
      "[0.92461872 0.05306648]\n"
     ]
    }
   ],
   "source": [
    "print(pca.explained_variance_ratio_)"
   ],
   "metadata": {
    "collapsed": false,
    "pycharm": {
     "name": "#%%\n"
    }
   }
  },
  {
   "cell_type": "markdown",
   "source": [
    "Part 2 - Another Reduction Method"
   ],
   "metadata": {
    "collapsed": false
   }
  },
  {
   "cell_type": "markdown",
   "source": [
    "1. Apply another reduction method of your choice on the features of IRIS dataset in 2\n",
    "dimensions."
   ],
   "metadata": {
    "collapsed": false
   }
  },
  {
   "cell_type": "code",
   "execution_count": 4,
   "outputs": [],
   "source": [
    "from sklearn.discriminant_analysis import LinearDiscriminantAnalysis as LDA\n",
    "lda = LDA(n_components=2)\n",
    "lda_result=lda.fit_transform(iris.data, iris.target)"
   ],
   "metadata": {
    "collapsed": false,
    "pycharm": {
     "name": "#%%\n"
    }
   }
  },
  {
   "cell_type": "markdown",
   "source": [
    "2. Show scatter plot of the reduced dimension. Use separate color for each class of the\n",
    "data."
   ],
   "metadata": {
    "collapsed": false
   }
  },
  {
   "cell_type": "code",
   "execution_count": 5,
   "outputs": [
    {
     "data": {
      "text/plain": "<Figure size 640x480 with 1 Axes>"
     },
     "metadata": {},
     "output_type": "display_data"
    }
   ],
   "source": [
    "import matplotlib.pyplot as plt\n",
    "plt.figure()\n",
    "plt.scatter(lda_result[iris.target == 0, 0], lda_result[iris.target == 0, 1], color='r')\n",
    "plt.scatter(lda_result[iris.target == 1, 0], lda_result[iris.target == 1, 1], color='g')\n",
    "plt.scatter(lda_result[iris.target == 2, 0], lda_result[iris.target == 2, 1], color='b')\n",
    "plt.title('LDA on iris')\n",
    "plt.show()"
   ],
   "metadata": {
    "collapsed": false,
    "pycharm": {
     "name": "#%%\n"
    }
   }
  },
  {
   "cell_type": "markdown",
   "source": [
    "3. Show how much variance ratio is explained by the reduced dimension."
   ],
   "metadata": {
    "collapsed": false
   }
  },
  {
   "cell_type": "code",
   "execution_count": 6,
   "outputs": [
    {
     "name": "stdout",
     "output_type": "stream",
     "text": [
      "[0.9912126 0.0087874]\n"
     ]
    }
   ],
   "source": [
    "print(lda.explained_variance_ratio_)"
   ],
   "metadata": {
    "collapsed": false,
    "pycharm": {
     "name": "#%%\n"
    }
   }
  },
  {
   "cell_type": "markdown",
   "source": [
    "Part 3 Conceptual Question"
   ],
   "metadata": {
    "collapsed": false
   }
  },
  {
   "cell_type": "markdown",
   "source": [
    "1. Compare the variance ratio explained by the 2-dimensions of the methods you have\n",
    "used. Which is better?"
   ],
   "metadata": {
    "collapsed": false
   }
  },
  {
   "cell_type": "markdown",
   "source": [
    "PCA:[0.92461872 0.05306648]\n",
    "\n",
    "LDA:[0.9912126 0.0087874]\n",
    "\n",
    "So LDA is better"
   ],
   "metadata": {
    "collapsed": false,
    "pycharm": {
     "name": "#%% md\n"
    }
   }
  },
  {
   "cell_type": "markdown",
   "source": [
    "2. Compare the scatter plot of the two methods after reduction. Which is a better method\n",
    "for separating the different classes of data?"
   ],
   "metadata": {
    "collapsed": false
   }
  },
  {
   "cell_type": "markdown",
   "source": [
    "The scatter plot is as follows. It shows LDA is a better methos for separating the different classes."
   ],
   "metadata": {
    "collapsed": false
   }
  },
  {
   "cell_type": "code",
   "source": [
    "pca = PCA(n_components=2)\n",
    "pca_result = pca.fit_transform(iris.data)\n",
    "plt.figure()\n",
    "plt.subplot(1, 2, 1)\n",
    "plt.scatter(pca_result[iris.target == 0, 0], pca_result[iris.target == 0, 1], color='r')\n",
    "plt.scatter(pca_result[iris.target == 1, 0], pca_result[iris.target == 1, 1], color='g')\n",
    "plt.scatter(pca_result[iris.target == 2, 0], pca_result[iris.target == 2, 1], color='b')\n",
    "plt.title('PCA on iris')\n",
    "\n",
    "plt.subplot(1, 2, 2)\n",
    "plt.scatter(lda_result[iris.target == 0, 0], lda_result[iris.target == 0, 1], color='r')\n",
    "plt.scatter(lda_result[iris.target == 1, 0], lda_result[iris.target == 1, 1], color='g')\n",
    "plt.scatter(lda_result[iris.target == 2, 0], lda_result[iris.target == 2, 1], color='b')\n",
    "plt.title('LDA on iris')\n",
    "plt.show()"
   ],
   "metadata": {
    "collapsed": false,
    "pycharm": {
     "name": "#%%\n"
    }
   },
   "execution_count": 8,
   "outputs": [
    {
     "data": {
      "text/plain": "<Figure size 432x288 with 2 Axes>",
      "image/png": "[encoded data removed]"
     },
     "metadata": {
      "needs_background": "light"
     },
     "output_type": "display_data"
    }
   ]
  },
  {
   "cell_type": "markdown",
   "source": [
    "3. What is the primary difference between the two methods? Which method works better\n",
    "in this case and why?"
   ],
   "metadata": {
    "collapsed": false
   }
  },
  {
   "cell_type": "markdown",
   "source": [
    "PCA is unsupervised dimensionality reduction, and LDA is supervised dimensionality reduction. PCA hopes that the variance of the data after projection is as large as possible (maximum separability), because it assumes that the more variance, the more information it contains; while LDA hopes that the variance within the same category after projection is small, and the variance between groups The variance is large.\n",
    "In this case, LDA is better.Because LDA can reasonably use label information to make the dimension after projection discriminative, and separate data of different categories as much as possible.Therefore, if there is a label, the data of the label should be used as much as possible\n"
   ],
   "metadata": {
    "collapsed": false
   }
  }
 ],
 "metadata": {
  "kernelspec": {
   "name": "python3",
   "language": "python",
   "display_name": "Python 3"
  },
  "language_info": {
   "codemirror_mode": {
    "name": "ipython",
    "version": 2
   },
   "file_extension": ".py",
   "mimetype": "text/x-python",
   "name": "python",
   "nbconvert_exporter": "python",
   "pygments_lexer": "ipython2",
   "version": "2.7.11"
  }
 },
 "nbformat": 4,
 "nbformat_minor": 0
}