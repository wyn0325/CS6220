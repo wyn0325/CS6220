{
 "cells": [
  {
   "cell_type": "code",
   "execution_count": 1,
   "metadata": {
    "colab": {},
    "colab_type": "code",
    "id": "UAWWm0wNv-fS"
   },
   "outputs": [
    {
     "ename": "ModuleNotFoundError",
     "evalue": "No module named 'graphviz'",
     "output_type": "error",
     "traceback": [
      "\u001b[0;31m---------------------------------------------------------------------------\u001b[0m",
      "\u001b[0;31mModuleNotFoundError\u001b[0m                       Traceback (most recent call last)",
      "\u001b[0;32m<ipython-input-1-79985ac82f7f>\u001b[0m in \u001b[0;36m<module>\u001b[0;34m\u001b[0m\n\u001b[1;32m      3\u001b[0m \u001b[0;32mfrom\u001b[0m \u001b[0msklearn\u001b[0m \u001b[0;32mimport\u001b[0m \u001b[0mtree\u001b[0m\u001b[0;34m\u001b[0m\u001b[0;34m\u001b[0m\u001b[0m\n\u001b[1;32m      4\u001b[0m \u001b[0;32mfrom\u001b[0m \u001b[0msklearn\u001b[0m\u001b[0;34m.\u001b[0m\u001b[0mmodel_selection\u001b[0m \u001b[0;32mimport\u001b[0m \u001b[0mtrain_test_split\u001b[0m\u001b[0;34m\u001b[0m\u001b[0;34m\u001b[0m\u001b[0m\n\u001b[0;32m----> 5\u001b[0;31m \u001b[0;32mimport\u001b[0m \u001b[0mgraphviz\u001b[0m\u001b[0;34m\u001b[0m\u001b[0;34m\u001b[0m\u001b[0m\n\u001b[0m",
      "\u001b[0;31mModuleNotFoundError\u001b[0m: No module named 'graphviz'"
     ]
    }
   ],
   "source": [
    "import numpy as np\n",
    "from sklearn.datasets import load_boston\n",
    "from sklearn import tree\n",
    "from sklearn.model_selection import train_test_split\n",
    "import graphviz"
   ]
  },
  {
   "cell_type": "markdown",
   "metadata": {
    "colab_type": "text",
    "id": "eC9Z93lzUQxs"
   },
   "source": [
    "### Load dataset"
   ]
  },
  {
   "cell_type": "code",
   "execution_count": null,
   "metadata": {
    "colab": {},
    "colab_type": "code",
    "id": "LTtVlSCVv-fh"
   },
   "outputs": [],
   "source": [
    "data = load_boston()\n",
    "X, y = data.data, data.target"
   ]
  },
  {
   "cell_type": "markdown",
   "metadata": {
    "colab_type": "text",
    "id": "HOW5E_EMUZP5"
   },
   "source": [
    "### Convert target to categorical values"
   ]
  },
  {
   "cell_type": "code",
   "execution_count": null,
   "metadata": {
    "colab": {},
    "colab_type": "code",
    "id": "KbDaMAwWwoKh"
   },
   "outputs": [],
   "source": [
    "max, min = y.max(), y.min()\n",
    "range = (max - min)/3\n",
    "y[y < (min+range)] = 0\n",
    "y[((min+range) <= y) & (y < min+2*range)] = 1\n",
    "y[y >= min+2*range] = 2"
   ]
  },
  {
   "cell_type": "markdown",
   "metadata": {
    "colab_type": "text",
    "id": "MeYUMyOZUfX5"
   },
   "source": [
    "### Split train and test set"
   ]
  },
  {
   "cell_type": "code",
   "execution_count": null,
   "metadata": {
    "colab": {},
    "colab_type": "code",
    "id": "yZNe_k6fv-fk"
   },
   "outputs": [],
   "source": [
    "X_train, X_test, y_train, y_test = train_test_split(X, y, test_size=0.30)"
   ]
  },
  {
   "cell_type": "markdown",
   "metadata": {
    "colab_type": "text",
    "id": "bsgi7nZMUjoX"
   },
   "source": [
    "### Decision Tree learning"
   ]
  },
  {
   "cell_type": "code",
   "execution_count": null,
   "metadata": {
    "colab": {},
    "colab_type": "code",
    "id": "go-zcmKhv-fm"
   },
   "outputs": [],
   "source": [
    "clf = tree.DecisionTreeClassifier()\n",
    "clf = clf.fit(X_train, y_train)"
   ]
  },
  {
   "cell_type": "markdown",
   "metadata": {
    "colab_type": "text",
    "id": "1yhHIhd-UmAm"
   },
   "source": [
    "### Report on Decision Tree, and Decision Tree of various depths"
   ]
  },
  {
   "cell_type": "code",
   "execution_count": null,
   "metadata": {
    "colab": {
     "base_uri": "https://localhost:8080/",
     "height": 1000
    },
    "colab_type": "code",
    "id": "4yz6h2SAv-fq",
    "outputId": "12e40b1a-db81-4d81-c4b5-be82a008b362"
   },
   "outputs": [],
   "source": [
    "print('----------------------------------------------------------------------')\n",
    "print('Tree Depth: \\t', clf.get_depth())\n",
    "print('# of Leaves: \\t', clf.get_n_leaves())\n",
    "print('Train Score: \\t', clf.score(X_train, y_train))\n",
    "print('Test Score: \\t', clf.score(X_test, y_test))\n",
    "print('')\n",
    "\n",
    "fi = np.argsort(clf.feature_importances_)\n",
    "fi = reversed(fi)\n",
    "for i in fi:\n",
    "  print(data.feature_names[i], ': ', '%.4f'%clf.feature_importances_[i])\n",
    "\n",
    "print('----------------------------------------------------------------------')\n",
    "print('----------------------------------------------------------------------')\n",
    "\n",
    "best_dt = None\n",
    "best_score = -1\n",
    "d = clf.get_depth() - 1\n",
    "while d > 0: \n",
    "  dt_clf = tree.DecisionTreeClassifier(max_depth=d)\n",
    "  dt_clf = dt_clf.fit(X_train, y_train)\n",
    "  print('Tree Depth: \\t', dt_clf.get_depth())\n",
    "  print('# of Leaves: \\t', dt_clf.get_n_leaves())\n",
    "  print('Train Score: \\t', dt_clf.score(X_train, y_train))\n",
    "\n",
    "  score = dt_clf.score(X_test, y_test)\n",
    "  print('Test Score: \\t', score)\n",
    "  print('')\n",
    "  \n",
    "  fi = np.argsort(dt_clf.feature_importances_)\n",
    "  fi = reversed(fi)\n",
    "  for i in fi:\n",
    "    if dt_clf.feature_importances_[i] != 0:\n",
    "      print(data.feature_names[i], ': ', '%.4f'%dt_clf.feature_importances_[i])\n",
    "  \n",
    "  print('----------------------------------------------------------------------')\n",
    "\n",
    "  d -= 1\n",
    "\n",
    "  if best_score < score:\n",
    "    best_score = score\n",
    "    best_dt = dt_clf"
   ]
  },
  {
   "cell_type": "markdown",
   "metadata": {
    "colab_type": "text",
    "id": "mSvtqK1FUtnr"
   },
   "source": [
    "### Decision Tree visualization"
   ]
  },
  {
   "cell_type": "code",
   "execution_count": null,
   "metadata": {
    "colab": {
     "base_uri": "https://localhost:8080/",
     "height": 1000
    },
    "colab_type": "code",
    "id": "f8Xzokskv-fx",
    "outputId": "cc94a3f0-59df-4c45-c557-d3f905508c76"
   },
   "outputs": [],
   "source": [
    "print('Tree Depth: \\t', clf.get_depth())\n",
    "print('# of Leaves: \\t', clf.get_n_leaves())\n",
    "print('Train Score: \\t', clf.score(X_train, y_train))\n",
    "print('Test Score: \\t', clf.score(X_test, y_test))\n",
    "\n",
    "\n",
    "\n",
    "dot_data = tree.export_graphviz(clf, out_file=None) \n",
    "graph = graphviz.Source(dot_data) \n",
    "graph.render(\"boston_dataset_decision_tree\")\n",
    "\n",
    "dot_data = tree.export_graphviz(clf, out_file=None,   \n",
    "                    feature_names=data.feature_names, \n",
    "                    class_names=['low', 'mid', 'high'],\n",
    "                    filled=True, rounded=True,  \n",
    "                    special_characters=True)  \n",
    "graph = graphviz.Source(dot_data)  \n",
    "graph "
   ]
  },
  {
   "cell_type": "markdown",
   "metadata": {
    "colab_type": "text",
    "id": "Ov3sPelDU1ie"
   },
   "source": [
    "### Best Decision Tree on Test Score"
   ]
  },
  {
   "cell_type": "code",
   "execution_count": null,
   "metadata": {
    "colab": {
     "base_uri": "https://localhost:8080/",
     "height": 845
    },
    "colab_type": "code",
    "id": "8esL6ozRRUN2",
    "outputId": "bbf1f743-255a-4f06-8f48-fb341355a24d"
   },
   "outputs": [],
   "source": [
    "print('Tree Depth: \\t', best_dt.get_depth())\n",
    "print('# of Leaves: \\t', best_dt.get_n_leaves())\n",
    "print('Train Score: \\t', best_dt.score(X_train, y_train))\n",
    "print('Test Score: \\t', best_dt.score(X_test, y_test))\n",
    "\n",
    "dot_data = tree.export_graphviz(best_dt, out_file=None) \n",
    "graph = graphviz.Source(dot_data) \n",
    "graph.render(\"boston_dataset_decision_tree\")\n",
    "\n",
    "dot_data = tree.export_graphviz(best_dt, out_file=None,   \n",
    "                    feature_names=data.feature_names, \n",
    "                    class_names=['low', 'mid', 'high'],\n",
    "                    filled=True, rounded=True,  \n",
    "                    special_characters=True)  \n",
    "graph = graphviz.Source(dot_data)  \n",
    "graph "
   ]
  },
  {
   "cell_type": "code",
   "execution_count": null,
   "metadata": {},
   "outputs": [],
   "source": []
  }
 ],
 "metadata": {
  "colab": {
   "collapsed_sections": [],
   "name": "M08-v1.ipynb",
   "provenance": []
  },
  "kernelspec": {
   "display_name": "Python 3",
   "language": "python",
   "name": "python3"
  },
  "language_info": {
   "codemirror_mode": {
    "name": "ipython",
    "version": 3
   },
   "file_extension": ".py",
   "mimetype": "text/x-python",
   "name": "python",
   "nbconvert_exporter": "python",
   "pygments_lexer": "ipython3",
   "version": "3.7.6"
  }
 },
 "nbformat": 4,
 "nbformat_minor": 1
}
