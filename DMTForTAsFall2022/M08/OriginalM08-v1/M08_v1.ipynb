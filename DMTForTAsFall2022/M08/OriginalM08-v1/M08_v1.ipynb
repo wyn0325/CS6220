{
 "cells": [
  {
   "cell_type": "code",
   "execution_count": 1,
   "metadata": {
    "colab": {},
    "colab_type": "code",
    "id": "UAWWm0wNv-fS"
   },
   "outputs": [],
   "source": [
    "import numpy as np\n",
    "from sklearn.datasets import load_boston\n",
    "from sklearn import tree\n",
    "from sklearn.model_selection import train_test_split\n",
    "import graphviz"
   ]
  },
  {
   "cell_type": "markdown",
   "metadata": {
    "colab_type": "text",
    "id": "eC9Z93lzUQxs"
   },
   "source": [
    "### Load dataset"
   ]
  },
  {
   "cell_type": "code",
   "execution_count": 2,
   "metadata": {
    "colab": {},
    "colab_type": "code",
    "id": "LTtVlSCVv-fh"
   },
   "outputs": [
    {
     "data": {
      "text/plain": [
       "numpy.ndarray"
      ]
     },
     "execution_count": 2,
     "metadata": {},
     "output_type": "execute_result"
    }
   ],
   "source": [
    "data = load_boston()\n",
    "X, y = data.data, data.target\n",
    "type(y)"
   ]
  },
  {
   "cell_type": "markdown",
   "metadata": {
    "colab_type": "text",
    "id": "HOW5E_EMUZP5"
   },
   "source": [
    "### Convert target to categorical values"
   ]
  },
  {
   "cell_type": "code",
   "execution_count": 3,
   "metadata": {
    "colab": {},
    "colab_type": "code",
    "id": "KbDaMAwWwoKh"
   },
   "outputs": [],
   "source": [
    "max, min = y.max(), y.min()\n",
    "range = (max - min)/3\n",
    "y[y < (min+range)] = 0\n",
    "y[((min+range) <= y) & (y < min+2*range)] = 1\n",
    "y[y >= min+2*range] = 2"
   ]
  },
  {
   "cell_type": "markdown",
   "metadata": {
    "colab_type": "text",
    "id": "MeYUMyOZUfX5"
   },
   "source": [
    "### Split train and test set"
   ]
  },
  {
   "cell_type": "code",
   "execution_count": 4,
   "metadata": {
    "colab": {},
    "colab_type": "code",
    "id": "yZNe_k6fv-fk"
   },
   "outputs": [],
   "source": [
    "X_train, X_test, y_train, y_test = train_test_split(X, y, test_size=0.30)"
   ]
  },
  {
   "cell_type": "markdown",
   "metadata": {
    "colab_type": "text",
    "id": "bsgi7nZMUjoX"
   },
   "source": [
    "### Decision Tree learning"
   ]
  },
  {
   "cell_type": "code",
   "execution_count": 5,
   "metadata": {
    "colab": {},
    "colab_type": "code",
    "id": "go-zcmKhv-fm"
   },
   "outputs": [],
   "source": [
    "clf = tree.DecisionTreeClassifier()\n",
    "clf = clf.fit(X_train, y_train)"
   ]
  },
  {
   "cell_type": "markdown",
   "metadata": {
    "colab_type": "text",
    "id": "1yhHIhd-UmAm"
   },
   "source": [
    "### Report on Decision Tree, and Decision Tree of various depths"
   ]
  },
  {
   "cell_type": "code",
   "execution_count": 6,
   "metadata": {
    "colab": {
     "base_uri": "https://localhost:8080/",
     "height": 1000
    },
    "colab_type": "code",
    "id": "4yz6h2SAv-fq",
    "outputId": "12e40b1a-db81-4d81-c4b5-be82a008b362"
   },
   "outputs": [
    {
     "name": "stdout",
     "output_type": "stream",
     "text": [
      "----------------------------------------------------------------------\n",
      "Tree Depth: \t 13\n",
      "# of Leaves: \t 50\n",
      "Train Score: \t 1.0\n",
      "Test Score: \t 0.7828947368421053\n",
      "\n",
      "LSTAT :  0.4137\n",
      "RM :  0.2079\n",
      "AGE :  0.0739\n",
      "DIS :  0.0673\n",
      "CRIM :  0.0530\n",
      "PTRATIO :  0.0411\n",
      "B :  0.0359\n",
      "NOX :  0.0337\n",
      "TAX :  0.0317\n",
      "INDUS :  0.0217\n",
      "CHAS :  0.0200\n",
      "RAD :  0.0000\n",
      "ZN :  0.0000\n",
      "----------------------------------------------------------------------\n",
      "----------------------------------------------------------------------\n",
      "Tree Depth: \t 12\n",
      "# of Leaves: \t 49\n",
      "Train Score: \t 0.9943502824858758\n",
      "Test Score: \t 0.7960526315789473\n",
      "\n",
      "LSTAT :  0.4261\n",
      "RM :  0.2035\n",
      "AGE :  0.0917\n",
      "DIS :  0.0662\n",
      "CRIM :  0.0642\n",
      "PTRATIO :  0.0371\n",
      "TAX :  0.0300\n",
      "NOX :  0.0249\n",
      "B :  0.0215\n",
      "CHAS :  0.0203\n",
      "INDUS :  0.0146\n",
      "----------------------------------------------------------------------\n",
      "Tree Depth: \t 11\n",
      "# of Leaves: \t 47\n",
      "Train Score: \t 0.9943502824858758\n",
      "Test Score: \t 0.7894736842105263\n",
      "\n",
      "LSTAT :  0.4292\n",
      "RM :  0.2166\n",
      "AGE :  0.0656\n",
      "DIS :  0.0619\n",
      "CRIM :  0.0493\n",
      "PTRATIO :  0.0402\n",
      "TAX :  0.0395\n",
      "B :  0.0376\n",
      "INDUS :  0.0221\n",
      "CHAS :  0.0204\n",
      "NOX :  0.0178\n",
      "----------------------------------------------------------------------\n",
      "Tree Depth: \t 10\n",
      "# of Leaves: \t 42\n",
      "Train Score: \t 0.980225988700565\n",
      "Test Score: \t 0.8092105263157895\n",
      "\n",
      "LSTAT :  0.4368\n",
      "RM :  0.2116\n",
      "AGE :  0.0688\n",
      "DIS :  0.0626\n",
      "CRIM :  0.0573\n",
      "TAX :  0.0476\n",
      "PTRATIO :  0.0364\n",
      "B :  0.0266\n",
      "INDUS :  0.0237\n",
      "CHAS :  0.0211\n",
      "RAD :  0.0077\n",
      "----------------------------------------------------------------------\n",
      "Tree Depth: \t 9\n",
      "# of Leaves: \t 38\n",
      "Train Score: \t 0.9717514124293786\n",
      "Test Score: \t 0.7828947368421053\n",
      "\n",
      "LSTAT :  0.4419\n",
      "RM :  0.2223\n",
      "DIS :  0.0576\n",
      "AGE :  0.0547\n",
      "CRIM :  0.0488\n",
      "TAX :  0.0432\n",
      "PTRATIO :  0.0373\n",
      "B :  0.0319\n",
      "NOX :  0.0253\n",
      "CHAS :  0.0216\n",
      "INDUS :  0.0155\n",
      "----------------------------------------------------------------------\n",
      "Tree Depth: \t 8\n",
      "# of Leaves: \t 32\n",
      "Train Score: \t 0.9576271186440678\n",
      "Test Score: \t 0.7828947368421053\n",
      "\n",
      "LSTAT :  0.4533\n",
      "RM :  0.2239\n",
      "CRIM :  0.0629\n",
      "DIS :  0.0603\n",
      "AGE :  0.0573\n",
      "TAX :  0.0430\n",
      "PTRATIO :  0.0414\n",
      "CHAS :  0.0226\n",
      "B :  0.0157\n",
      "INDUS :  0.0113\n",
      "RAD :  0.0082\n",
      "----------------------------------------------------------------------\n",
      "Tree Depth: \t 7\n",
      "# of Leaves: \t 25\n",
      "Train Score: \t 0.9350282485875706\n",
      "Test Score: \t 0.7763157894736842\n",
      "\n",
      "LSTAT :  0.4728\n",
      "RM :  0.2189\n",
      "DIS :  0.0717\n",
      "AGE :  0.0606\n",
      "PTRATIO :  0.0413\n",
      "CRIM :  0.0369\n",
      "TAX :  0.0366\n",
      "CHAS :  0.0239\n",
      "B :  0.0166\n",
      "INDUS :  0.0119\n",
      "RAD :  0.0087\n",
      "----------------------------------------------------------------------\n",
      "Tree Depth: \t 6\n",
      "# of Leaves: \t 20\n",
      "Train Score: \t 0.9152542372881356\n",
      "Test Score: \t 0.8026315789473685\n",
      "\n",
      "LSTAT :  0.4851\n",
      "RM :  0.2120\n",
      "AGE :  0.0636\n",
      "DIS :  0.0549\n",
      "PTRATIO :  0.0434\n",
      "CRIM :  0.0387\n",
      "TAX :  0.0269\n",
      "CHAS :  0.0251\n",
      "NOX :  0.0203\n",
      "B :  0.0174\n",
      "INDUS :  0.0125\n",
      "----------------------------------------------------------------------\n",
      "Tree Depth: \t 5\n",
      "# of Leaves: \t 16\n",
      "Train Score: \t 0.8898305084745762\n",
      "Test Score: \t 0.7894736842105263\n",
      "\n",
      "LSTAT :  0.5288\n",
      "RM :  0.2411\n",
      "AGE :  0.0694\n",
      "DIS :  0.0599\n",
      "PTRATIO :  0.0291\n",
      "CHAS :  0.0274\n",
      "CRIM :  0.0254\n",
      "B :  0.0190\n",
      "----------------------------------------------------------------------\n",
      "Tree Depth: \t 4\n",
      "# of Leaves: \t 11\n",
      "Train Score: \t 0.8728813559322034\n",
      "Test Score: \t 0.7894736842105263\n",
      "\n",
      "LSTAT :  0.5887\n",
      "RM :  0.2573\n",
      "DIS :  0.0666\n",
      "CHAS :  0.0305\n",
      "AGE :  0.0286\n",
      "INDUS :  0.0247\n",
      "CRIM :  0.0036\n",
      "----------------------------------------------------------------------\n",
      "Tree Depth: \t 3\n",
      "# of Leaves: \t 7\n",
      "Train Score: \t 0.8333333333333334\n",
      "Test Score: \t 0.7894736842105263\n",
      "\n",
      "LSTAT :  0.6283\n",
      "RM :  0.2805\n",
      "CHAS :  0.0332\n",
      "AGE :  0.0311\n",
      "TAX :  0.0269\n",
      "----------------------------------------------------------------------\n",
      "Tree Depth: \t 2\n",
      "# of Leaves: \t 4\n",
      "Train Score: \t 0.8163841807909604\n",
      "Test Score: \t 0.7894736842105263\n",
      "\n",
      "LSTAT :  0.7446\n",
      "RM :  0.2161\n",
      "CHAS :  0.0393\n",
      "----------------------------------------------------------------------\n",
      "Tree Depth: \t 1\n",
      "# of Leaves: \t 2\n",
      "Train Score: \t 0.768361581920904\n",
      "Test Score: \t 0.7236842105263158\n",
      "\n",
      "LSTAT :  1.0000\n",
      "----------------------------------------------------------------------\n"
     ]
    }
   ],
   "source": [
    "print('----------------------------------------------------------------------')\n",
    "print('Tree Depth: \\t', clf.get_depth())\n",
    "print('# of Leaves: \\t', clf.get_n_leaves())\n",
    "print('Train Score: \\t', clf.score(X_train, y_train))\n",
    "print('Test Score: \\t', clf.score(X_test, y_test))\n",
    "print('')\n",
    "\n",
    "fi = np.argsort(clf.feature_importances_)\n",
    "fi = reversed(fi)\n",
    "for i in fi:\n",
    "  print(data.feature_names[i], ': ', '%.4f'%clf.feature_importances_[i])\n",
    "\n",
    "print('----------------------------------------------------------------------')\n",
    "print('----------------------------------------------------------------------')\n",
    "\n",
    "best_dt = None\n",
    "best_score = -1\n",
    "d = clf.get_depth() - 1\n",
    "while d > 0: \n",
    "  dt_clf = tree.DecisionTreeClassifier(max_depth=d)\n",
    "  dt_clf = dt_clf.fit(X_train, y_train)\n",
    "  print('Tree Depth: \\t', dt_clf.get_depth())\n",
    "  print('# of Leaves: \\t', dt_clf.get_n_leaves())\n",
    "  print('Train Score: \\t', dt_clf.score(X_train, y_train))\n",
    "\n",
    "  score = dt_clf.score(X_test, y_test)\n",
    "  print('Test Score: \\t', score)\n",
    "  print('')\n",
    "  \n",
    "  fi = np.argsort(dt_clf.feature_importances_)\n",
    "  fi = reversed(fi)\n",
    "  for i in fi:\n",
    "    if dt_clf.feature_importances_[i] != 0:\n",
    "      print(data.feature_names[i], ': ', '%.4f'%dt_clf.feature_importances_[i])\n",
    "  \n",
    "  print('----------------------------------------------------------------------')\n",
    "\n",
    "  d -= 1\n",
    "\n",
    "  if best_score < score:\n",
    "    best_score = score\n",
    "    best_dt = dt_clf"
   ]
  },
  {
   "cell_type": "markdown",
   "metadata": {
    "colab_type": "text",
    "id": "mSvtqK1FUtnr"
   },
   "source": [
    "### Decision Tree visualization"
   ]
  },
  {
   "cell_type": "code",
   "execution_count": 7,
   "metadata": {
    "colab": {
     "base_uri": "https://localhost:8080/",
     "height": 1000
    },
    "colab_type": "code",
    "id": "f8Xzokskv-fx",
    "outputId": "cc94a3f0-59df-4c45-c557-d3f905508c76"
   },
   "outputs": [
    {
     "name": "stdout",
     "output_type": "stream",
     "text": [
      "Tree Depth: \t 13\n",
      "# of Leaves: \t 50\n",
      "Train Score: \t 1.0\n",
      "Test Score: \t 0.7828947368421053\n"
     ]
    },
    {
     "ename": "ExecutableNotFound",
     "evalue": "failed to execute WindowsPath('dot'), make sure the Graphviz executables are on your systems' PATH",
     "output_type": "error",
     "traceback": [
      "\u001b[1;31m---------------------------------------------------------------------------\u001b[0m",
      "\u001b[1;31mFileNotFoundError\u001b[0m                         Traceback (most recent call last)",
      "File \u001b[1;32md:\\anaconda3\\lib\\site-packages\\graphviz\\backend\\execute.py:81\u001b[0m, in \u001b[0;36mrun_check\u001b[1;34m(cmd, input_lines, encoding, quiet, **kwargs)\u001b[0m\n\u001b[0;32m     80\u001b[0m     \u001b[39melse\u001b[39;00m:\n\u001b[1;32m---> 81\u001b[0m         proc \u001b[39m=\u001b[39m subprocess\u001b[39m.\u001b[39mrun(cmd, \u001b[39m*\u001b[39m\u001b[39m*\u001b[39mkwargs)\n\u001b[0;32m     82\u001b[0m \u001b[39mexcept\u001b[39;00m \u001b[39mOSError\u001b[39;00m \u001b[39mas\u001b[39;00m e:\n",
      "File \u001b[1;32md:\\anaconda3\\lib\\subprocess.py:505\u001b[0m, in \u001b[0;36mrun\u001b[1;34m(input, capture_output, timeout, check, *popenargs, **kwargs)\u001b[0m\n\u001b[0;32m    503\u001b[0m     kwargs[\u001b[39m'\u001b[39m\u001b[39mstderr\u001b[39m\u001b[39m'\u001b[39m] \u001b[39m=\u001b[39m PIPE\n\u001b[1;32m--> 505\u001b[0m \u001b[39mwith\u001b[39;00m Popen(\u001b[39m*\u001b[39mpopenargs, \u001b[39m*\u001b[39m\u001b[39m*\u001b[39mkwargs) \u001b[39mas\u001b[39;00m process:\n\u001b[0;32m    506\u001b[0m     \u001b[39mtry\u001b[39;00m:\n",
      "File \u001b[1;32md:\\anaconda3\\lib\\subprocess.py:951\u001b[0m, in \u001b[0;36mPopen.__init__\u001b[1;34m(self, args, bufsize, executable, stdin, stdout, stderr, preexec_fn, close_fds, shell, cwd, env, universal_newlines, startupinfo, creationflags, restore_signals, start_new_session, pass_fds, user, group, extra_groups, encoding, errors, text, umask)\u001b[0m\n\u001b[0;32m    948\u001b[0m             \u001b[39mself\u001b[39m\u001b[39m.\u001b[39mstderr \u001b[39m=\u001b[39m io\u001b[39m.\u001b[39mTextIOWrapper(\u001b[39mself\u001b[39m\u001b[39m.\u001b[39mstderr,\n\u001b[0;32m    949\u001b[0m                     encoding\u001b[39m=\u001b[39mencoding, errors\u001b[39m=\u001b[39merrors)\n\u001b[1;32m--> 951\u001b[0m     \u001b[39mself\u001b[39;49m\u001b[39m.\u001b[39;49m_execute_child(args, executable, preexec_fn, close_fds,\n\u001b[0;32m    952\u001b[0m                         pass_fds, cwd, env,\n\u001b[0;32m    953\u001b[0m                         startupinfo, creationflags, shell,\n\u001b[0;32m    954\u001b[0m                         p2cread, p2cwrite,\n\u001b[0;32m    955\u001b[0m                         c2pread, c2pwrite,\n\u001b[0;32m    956\u001b[0m                         errread, errwrite,\n\u001b[0;32m    957\u001b[0m                         restore_signals,\n\u001b[0;32m    958\u001b[0m                         gid, gids, uid, umask,\n\u001b[0;32m    959\u001b[0m                         start_new_session)\n\u001b[0;32m    960\u001b[0m \u001b[39mexcept\u001b[39;00m:\n\u001b[0;32m    961\u001b[0m     \u001b[39m# Cleanup if the child failed starting.\u001b[39;00m\n",
      "File \u001b[1;32md:\\anaconda3\\lib\\subprocess.py:1420\u001b[0m, in \u001b[0;36mPopen._execute_child\u001b[1;34m(self, args, executable, preexec_fn, close_fds, pass_fds, cwd, env, startupinfo, creationflags, shell, p2cread, p2cwrite, c2pread, c2pwrite, errread, errwrite, unused_restore_signals, unused_gid, unused_gids, unused_uid, unused_umask, unused_start_new_session)\u001b[0m\n\u001b[0;32m   1419\u001b[0m \u001b[39mtry\u001b[39;00m:\n\u001b[1;32m-> 1420\u001b[0m     hp, ht, pid, tid \u001b[39m=\u001b[39m _winapi\u001b[39m.\u001b[39;49mCreateProcess(executable, args,\n\u001b[0;32m   1421\u001b[0m                              \u001b[39m# no special security\u001b[39;49;00m\n\u001b[0;32m   1422\u001b[0m                              \u001b[39mNone\u001b[39;49;00m, \u001b[39mNone\u001b[39;49;00m,\n\u001b[0;32m   1423\u001b[0m                              \u001b[39mint\u001b[39;49m(\u001b[39mnot\u001b[39;49;00m close_fds),\n\u001b[0;32m   1424\u001b[0m                              creationflags,\n\u001b[0;32m   1425\u001b[0m                              env,\n\u001b[0;32m   1426\u001b[0m                              cwd,\n\u001b[0;32m   1427\u001b[0m                              startupinfo)\n\u001b[0;32m   1428\u001b[0m \u001b[39mfinally\u001b[39;00m:\n\u001b[0;32m   1429\u001b[0m     \u001b[39m# Child is launched. Close the parent's copy of those pipe\u001b[39;00m\n\u001b[0;32m   1430\u001b[0m     \u001b[39m# handles that only the child should have open.  You need\u001b[39;00m\n\u001b[1;32m   (...)\u001b[0m\n\u001b[0;32m   1433\u001b[0m     \u001b[39m# pipe will not close when the child process exits and the\u001b[39;00m\n\u001b[0;32m   1434\u001b[0m     \u001b[39m# ReadFile will hang.\u001b[39;00m\n",
      "\u001b[1;31mFileNotFoundError\u001b[0m: [WinError 2] 系统找不到指定的文件。",
      "\nThe above exception was the direct cause of the following exception:\n",
      "\u001b[1;31mExecutableNotFound\u001b[0m                        Traceback (most recent call last)",
      "Cell \u001b[1;32mIn [7], line 10\u001b[0m\n\u001b[0;32m      8\u001b[0m dot_data \u001b[39m=\u001b[39m tree\u001b[39m.\u001b[39mexport_graphviz(clf, out_file\u001b[39m=\u001b[39m\u001b[39mNone\u001b[39;00m) \n\u001b[0;32m      9\u001b[0m graph \u001b[39m=\u001b[39m graphviz\u001b[39m.\u001b[39mSource(dot_data) \n\u001b[1;32m---> 10\u001b[0m graph\u001b[39m.\u001b[39;49mrender(\u001b[39m\"\u001b[39;49m\u001b[39mboston_dataset_decision_tree\u001b[39;49m\u001b[39m\"\u001b[39;49m)\n\u001b[0;32m     12\u001b[0m dot_data \u001b[39m=\u001b[39m tree\u001b[39m.\u001b[39mexport_graphviz(clf, out_file\u001b[39m=\u001b[39m\u001b[39mNone\u001b[39;00m,   \n\u001b[0;32m     13\u001b[0m                     feature_names\u001b[39m=\u001b[39mdata\u001b[39m.\u001b[39mfeature_names, \n\u001b[0;32m     14\u001b[0m                     class_names\u001b[39m=\u001b[39m[\u001b[39m'\u001b[39m\u001b[39mlow\u001b[39m\u001b[39m'\u001b[39m, \u001b[39m'\u001b[39m\u001b[39mmid\u001b[39m\u001b[39m'\u001b[39m, \u001b[39m'\u001b[39m\u001b[39mhigh\u001b[39m\u001b[39m'\u001b[39m],\n\u001b[0;32m     15\u001b[0m                     filled\u001b[39m=\u001b[39m\u001b[39mTrue\u001b[39;00m, rounded\u001b[39m=\u001b[39m\u001b[39mTrue\u001b[39;00m,  \n\u001b[0;32m     16\u001b[0m                     special_characters\u001b[39m=\u001b[39m\u001b[39mTrue\u001b[39;00m)  \n\u001b[0;32m     17\u001b[0m graph \u001b[39m=\u001b[39m graphviz\u001b[39m.\u001b[39mSource(dot_data)  \n",
      "File \u001b[1;32md:\\anaconda3\\lib\\site-packages\\graphviz\\_tools.py:171\u001b[0m, in \u001b[0;36mdeprecate_positional_args.<locals>.decorator.<locals>.wrapper\u001b[1;34m(*args, **kwargs)\u001b[0m\n\u001b[0;32m    162\u001b[0m     wanted \u001b[39m=\u001b[39m \u001b[39m'\u001b[39m\u001b[39m, \u001b[39m\u001b[39m'\u001b[39m\u001b[39m.\u001b[39mjoin(\u001b[39mf\u001b[39m\u001b[39m'\u001b[39m\u001b[39m{\u001b[39;00mname\u001b[39m}\u001b[39;00m\u001b[39m=\u001b[39m\u001b[39m{\u001b[39;00mvalue\u001b[39m!r}\u001b[39;00m\u001b[39m'\u001b[39m\n\u001b[0;32m    163\u001b[0m                        \u001b[39mfor\u001b[39;00m name, value \u001b[39min\u001b[39;00m deprecated\u001b[39m.\u001b[39mitems())\n\u001b[0;32m    164\u001b[0m     warnings\u001b[39m.\u001b[39mwarn(\u001b[39mf\u001b[39m\u001b[39m'\u001b[39m\u001b[39mThe signature of \u001b[39m\u001b[39m{\u001b[39;00mfunc\u001b[39m.\u001b[39m\u001b[39m__name__\u001b[39m\u001b[39m}\u001b[39;00m\u001b[39m will be reduced\u001b[39m\u001b[39m'\u001b[39m\n\u001b[0;32m    165\u001b[0m                   \u001b[39mf\u001b[39m\u001b[39m'\u001b[39m\u001b[39m to \u001b[39m\u001b[39m{\u001b[39;00msupported_number\u001b[39m}\u001b[39;00m\u001b[39m positional args\u001b[39m\u001b[39m'\u001b[39m\n\u001b[0;32m    166\u001b[0m                   \u001b[39mf\u001b[39m\u001b[39m'\u001b[39m\u001b[39m \u001b[39m\u001b[39m{\u001b[39;00m\u001b[39mlist\u001b[39m(supported)\u001b[39m}\u001b[39;00m\u001b[39m: pass \u001b[39m\u001b[39m{\u001b[39;00mwanted\u001b[39m}\u001b[39;00m\u001b[39m'\u001b[39m\n\u001b[0;32m    167\u001b[0m                   \u001b[39m'\u001b[39m\u001b[39m as keyword arg(s)\u001b[39m\u001b[39m'\u001b[39m,\n\u001b[0;32m    168\u001b[0m                   stacklevel\u001b[39m=\u001b[39mstacklevel,\n\u001b[0;32m    169\u001b[0m                   category\u001b[39m=\u001b[39mcategory)\n\u001b[1;32m--> 171\u001b[0m \u001b[39mreturn\u001b[39;00m func(\u001b[39m*\u001b[39margs, \u001b[39m*\u001b[39m\u001b[39m*\u001b[39mkwargs)\n",
      "File \u001b[1;32md:\\anaconda3\\lib\\site-packages\\graphviz\\rendering.py:122\u001b[0m, in \u001b[0;36mRender.render\u001b[1;34m(self, filename, directory, view, cleanup, format, renderer, formatter, neato_no_op, quiet, quiet_view, outfile, engine, raise_if_result_exists, overwrite_source)\u001b[0m\n\u001b[0;32m    118\u001b[0m filepath \u001b[39m=\u001b[39m \u001b[39mself\u001b[39m\u001b[39m.\u001b[39msave(filename, directory\u001b[39m=\u001b[39mdirectory, skip_existing\u001b[39m=\u001b[39m\u001b[39mNone\u001b[39;00m)\n\u001b[0;32m    120\u001b[0m args\u001b[39m.\u001b[39mappend(filepath)\n\u001b[1;32m--> 122\u001b[0m rendered \u001b[39m=\u001b[39m \u001b[39mself\u001b[39m\u001b[39m.\u001b[39m_render(\u001b[39m*\u001b[39margs, \u001b[39m*\u001b[39m\u001b[39m*\u001b[39mkwargs)\n\u001b[0;32m    124\u001b[0m \u001b[39mif\u001b[39;00m cleanup:\n\u001b[0;32m    125\u001b[0m     log\u001b[39m.\u001b[39mdebug(\u001b[39m'\u001b[39m\u001b[39mdelete \u001b[39m\u001b[39m%r\u001b[39;00m\u001b[39m'\u001b[39m, filepath)\n",
      "File \u001b[1;32md:\\anaconda3\\lib\\site-packages\\graphviz\\_tools.py:171\u001b[0m, in \u001b[0;36mdeprecate_positional_args.<locals>.decorator.<locals>.wrapper\u001b[1;34m(*args, **kwargs)\u001b[0m\n\u001b[0;32m    162\u001b[0m     wanted \u001b[39m=\u001b[39m \u001b[39m'\u001b[39m\u001b[39m, \u001b[39m\u001b[39m'\u001b[39m\u001b[39m.\u001b[39mjoin(\u001b[39mf\u001b[39m\u001b[39m'\u001b[39m\u001b[39m{\u001b[39;00mname\u001b[39m}\u001b[39;00m\u001b[39m=\u001b[39m\u001b[39m{\u001b[39;00mvalue\u001b[39m!r}\u001b[39;00m\u001b[39m'\u001b[39m\n\u001b[0;32m    163\u001b[0m                        \u001b[39mfor\u001b[39;00m name, value \u001b[39min\u001b[39;00m deprecated\u001b[39m.\u001b[39mitems())\n\u001b[0;32m    164\u001b[0m     warnings\u001b[39m.\u001b[39mwarn(\u001b[39mf\u001b[39m\u001b[39m'\u001b[39m\u001b[39mThe signature of \u001b[39m\u001b[39m{\u001b[39;00mfunc\u001b[39m.\u001b[39m\u001b[39m__name__\u001b[39m\u001b[39m}\u001b[39;00m\u001b[39m will be reduced\u001b[39m\u001b[39m'\u001b[39m\n\u001b[0;32m    165\u001b[0m                   \u001b[39mf\u001b[39m\u001b[39m'\u001b[39m\u001b[39m to \u001b[39m\u001b[39m{\u001b[39;00msupported_number\u001b[39m}\u001b[39;00m\u001b[39m positional args\u001b[39m\u001b[39m'\u001b[39m\n\u001b[0;32m    166\u001b[0m                   \u001b[39mf\u001b[39m\u001b[39m'\u001b[39m\u001b[39m \u001b[39m\u001b[39m{\u001b[39;00m\u001b[39mlist\u001b[39m(supported)\u001b[39m}\u001b[39;00m\u001b[39m: pass \u001b[39m\u001b[39m{\u001b[39;00mwanted\u001b[39m}\u001b[39;00m\u001b[39m'\u001b[39m\n\u001b[0;32m    167\u001b[0m                   \u001b[39m'\u001b[39m\u001b[39m as keyword arg(s)\u001b[39m\u001b[39m'\u001b[39m,\n\u001b[0;32m    168\u001b[0m                   stacklevel\u001b[39m=\u001b[39mstacklevel,\n\u001b[0;32m    169\u001b[0m                   category\u001b[39m=\u001b[39mcategory)\n\u001b[1;32m--> 171\u001b[0m \u001b[39mreturn\u001b[39;00m func(\u001b[39m*\u001b[39margs, \u001b[39m*\u001b[39m\u001b[39m*\u001b[39mkwargs)\n",
      "File \u001b[1;32md:\\anaconda3\\lib\\site-packages\\graphviz\\backend\\rendering.py:324\u001b[0m, in \u001b[0;36mrender\u001b[1;34m(engine, format, filepath, renderer, formatter, neato_no_op, quiet, outfile, raise_if_result_exists, overwrite_filepath)\u001b[0m\n\u001b[0;32m    320\u001b[0m     \u001b[39mraise\u001b[39;00m exceptions\u001b[39m.\u001b[39mFileExistsError(\u001b[39mf\u001b[39m\u001b[39m'\u001b[39m\u001b[39moutput file exists: \u001b[39m\u001b[39m{\u001b[39;00mos\u001b[39m.\u001b[39mfspath(outfile)\u001b[39m!r}\u001b[39;00m\u001b[39m'\u001b[39m)\n\u001b[0;32m    322\u001b[0m cmd \u001b[39m+\u001b[39m\u001b[39m=\u001b[39m args\n\u001b[1;32m--> 324\u001b[0m execute\u001b[39m.\u001b[39;49mrun_check(cmd,\n\u001b[0;32m    325\u001b[0m                   cwd\u001b[39m=\u001b[39;49mfilepath\u001b[39m.\u001b[39;49mparent \u001b[39mif\u001b[39;49;00m filepath\u001b[39m.\u001b[39;49mparent\u001b[39m.\u001b[39;49mparts \u001b[39melse\u001b[39;49;00m \u001b[39mNone\u001b[39;49;00m,\n\u001b[0;32m    326\u001b[0m                   quiet\u001b[39m=\u001b[39;49mquiet,\n\u001b[0;32m    327\u001b[0m                   capture_output\u001b[39m=\u001b[39;49m\u001b[39mTrue\u001b[39;49;00m)\n\u001b[0;32m    329\u001b[0m \u001b[39mreturn\u001b[39;00m os\u001b[39m.\u001b[39mfspath(outfile)\n",
      "File \u001b[1;32md:\\anaconda3\\lib\\site-packages\\graphviz\\backend\\execute.py:84\u001b[0m, in \u001b[0;36mrun_check\u001b[1;34m(cmd, input_lines, encoding, quiet, **kwargs)\u001b[0m\n\u001b[0;32m     82\u001b[0m \u001b[39mexcept\u001b[39;00m \u001b[39mOSError\u001b[39;00m \u001b[39mas\u001b[39;00m e:\n\u001b[0;32m     83\u001b[0m     \u001b[39mif\u001b[39;00m e\u001b[39m.\u001b[39merrno \u001b[39m==\u001b[39m errno\u001b[39m.\u001b[39mENOENT:\n\u001b[1;32m---> 84\u001b[0m         \u001b[39mraise\u001b[39;00m ExecutableNotFound(cmd) \u001b[39mfrom\u001b[39;00m \u001b[39me\u001b[39;00m\n\u001b[0;32m     85\u001b[0m     \u001b[39mraise\u001b[39;00m\n\u001b[0;32m     87\u001b[0m \u001b[39mif\u001b[39;00m \u001b[39mnot\u001b[39;00m quiet \u001b[39mand\u001b[39;00m proc\u001b[39m.\u001b[39mstderr:\n",
      "\u001b[1;31mExecutableNotFound\u001b[0m: failed to execute WindowsPath('dot'), make sure the Graphviz executables are on your systems' PATH"
     ]
    }
   ],
   "source": [
    "print('Tree Depth: \\t', clf.get_depth())\n",
    "print('# of Leaves: \\t', clf.get_n_leaves())\n",
    "print('Train Score: \\t', clf.score(X_train, y_train))\n",
    "print('Test Score: \\t', clf.score(X_test, y_test))\n",
    "\n",
    "\n",
    "\n",
    "dot_data = tree.export_graphviz(clf, out_file=None) \n",
    "graph = graphviz.Source(dot_data) \n",
    "graph.render(\"boston_dataset_decision_tree\")\n",
    "\n",
    "dot_data = tree.export_graphviz(clf, out_file=None,   \n",
    "                    feature_names=data.feature_names, \n",
    "                    class_names=['low', 'mid', 'high'],\n",
    "                    filled=True, rounded=True,  \n",
    "                    special_characters=True)  \n",
    "graph = graphviz.Source(dot_data)  \n",
    "graph "
   ]
  },
  {
   "cell_type": "markdown",
   "metadata": {
    "colab_type": "text",
    "id": "Ov3sPelDU1ie"
   },
   "source": [
    "### Best Decision Tree on Test Score"
   ]
  },
  {
   "cell_type": "code",
   "execution_count": null,
   "metadata": {
    "colab": {
     "base_uri": "https://localhost:8080/",
     "height": 845
    },
    "colab_type": "code",
    "id": "8esL6ozRRUN2",
    "outputId": "bbf1f743-255a-4f06-8f48-fb341355a24d"
   },
   "outputs": [],
   "source": [
    "print('Tree Depth: \\t', best_dt.get_depth())\n",
    "print('# of Leaves: \\t', best_dt.get_n_leaves())\n",
    "print('Train Score: \\t', best_dt.score(X_train, y_train))\n",
    "print('Test Score: \\t', best_dt.score(X_test, y_test))\n",
    "\n",
    "dot_data = tree.export_graphviz(best_dt, out_file=None) \n",
    "graph = graphviz.Source(dot_data) \n",
    "graph.render(\"boston_dataset_decision_tree\")\n",
    "\n",
    "dot_data = tree.export_graphviz(best_dt, out_file=None,   \n",
    "                    feature_names=data.feature_names, \n",
    "                    class_names=['low', 'mid', 'high'],\n",
    "                    filled=True, rounded=True,  \n",
    "                    special_characters=True)  \n",
    "graph = graphviz.Source(dot_data)  \n",
    "graph "
   ]
  },
  {
   "cell_type": "code",
   "execution_count": null,
   "metadata": {},
   "outputs": [],
   "source": []
  }
 ],
 "metadata": {
  "colab": {
   "collapsed_sections": [],
   "name": "M08-v1.ipynb",
   "provenance": []
  },
  "kernelspec": {
   "display_name": "Python 3.9.7 ('base')",
   "language": "python",
   "name": "python3"
  },
  "language_info": {
   "codemirror_mode": {
    "name": "ipython",
    "version": 3
   },
   "file_extension": ".py",
   "mimetype": "text/x-python",
   "name": "python",
   "nbconvert_exporter": "python",
   "pygments_lexer": "ipython3",
   "version": "3.9.7"
  },
  "vscode": {
   "interpreter": {
    "hash": "49cb93f377a7abe7414b7b0f21fb3017538004a126cf690fb524202736b7fb92"
   }
  }
 },
 "nbformat": 4,
 "nbformat_minor": 1
}
