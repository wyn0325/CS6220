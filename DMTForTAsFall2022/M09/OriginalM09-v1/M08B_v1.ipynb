{
 "cells": [
  {
   "cell_type": "code",
   "execution_count": 12,
   "metadata": {
    "colab": {},
    "colab_type": "code",
    "id": "UAWWm0wNv-fS"
   },
   "outputs": [],
   "source": [
    "import numpy as np\n",
    "from sklearn.datasets import load_breast_cancer\n",
    "from sklearn import tree\n",
    "from sklearn.model_selection import train_test_split\n",
    "from sklearn import metrics\n",
    "import matplotlib.pyplot as plt"
   ]
  },
  {
   "cell_type": "markdown",
   "metadata": {
    "colab_type": "text",
    "id": "eC9Z93lzUQxs"
   },
   "source": [
    "### Load dataset"
   ]
  },
  {
   "cell_type": "code",
   "execution_count": 13,
   "metadata": {
    "colab": {},
    "colab_type": "code",
    "id": "LTtVlSCVv-fh"
   },
   "outputs": [],
   "source": [
    "data = load_breast_cancer()\n",
    "X, y = data.data, data.target"
   ]
  },
  {
   "cell_type": "markdown",
   "metadata": {
    "colab_type": "text",
    "id": "MeYUMyOZUfX5"
   },
   "source": [
    "### Split train and test set"
   ]
  },
  {
   "cell_type": "code",
   "execution_count": 14,
   "metadata": {
    "colab": {},
    "colab_type": "code",
    "id": "yZNe_k6fv-fk"
   },
   "outputs": [],
   "source": [
    "X_train, X_test, y_train, y_test = train_test_split(X, y, test_size=0.20)"
   ]
  },
  {
   "cell_type": "markdown",
   "metadata": {
    "colab_type": "text",
    "id": "bsgi7nZMUjoX"
   },
   "source": [
    "### Decision Tree learning"
   ]
  },
  {
   "cell_type": "code",
   "execution_count": 15,
   "metadata": {
    "colab": {},
    "colab_type": "code",
    "id": "go-zcmKhv-fm"
   },
   "outputs": [],
   "source": [
    "clf = tree.DecisionTreeClassifier()\n",
    "clf = clf.fit(X_train, y_train)\n",
    "y_pred = clf.predict(X_test)\n",
    "fpr, tpr, thresholds = metrics.roc_curve(y_test, y_pred)"
   ]
  },
  {
   "cell_type": "markdown",
   "metadata": {
    "colab_type": "text",
    "id": "bsgi7nZMUjoX"
   },
   "source": [
    "### Decision (depth=1) Tree learning"
   ]
  },
  {
   "cell_type": "code",
   "execution_count": 16,
   "metadata": {},
   "outputs": [],
   "source": [
    "clf1 = tree.DecisionTreeClassifier(max_depth=1)\n",
    "clf1 = clf1.fit(X_train, y_train)\n",
    "y_pred1 = clf1.predict(X_test)\n",
    "fpr1, tpr1, thresholds1 = metrics.roc_curve(y_test, y_pred1)"
   ]
  },
  {
   "cell_type": "markdown",
   "metadata": {},
   "source": [
    "### Accuracy"
   ]
  },
  {
   "cell_type": "code",
   "execution_count": 17,
   "metadata": {},
   "outputs": [
    {
     "name": "stdout",
     "output_type": "stream",
     "text": [
      "------------------ Accuracy ------------------\n",
      "----------------------------------------------\n",
      "Decision Tree\t\t Decision Tree (Depth=1)\n",
      "0.9298245614035088 \t 0.8859649122807017\n"
     ]
    }
   ],
   "source": [
    "print('------------------ Accuracy ------------------')\n",
    "print('----------------------------------------------')\n",
    "print('Decision Tree\\t\\t Decision Tree (Depth=1)')\n",
    "print(clf.score(X_test, y_test), '\\t', clf1.score(X_test, y_test))"
   ]
  },
  {
   "cell_type": "markdown",
   "metadata": {},
   "source": [
    "### Precision and Recall"
   ]
  },
  {
   "cell_type": "code",
   "execution_count": 18,
   "metadata": {},
   "outputs": [
    {
     "name": "stdout",
     "output_type": "stream",
     "text": [
      "------------------ Precision ------------------\n",
      "----------------------------------------------\n",
      "Decision Tree\t\t Decision Tree (Depth=1)\n",
      "0.9552238805970149 \t 0.9375\n",
      "------------------ Recall ------------------\n",
      "----------------------------------------------\n",
      "Decision Tree\t\t Decision Tree (Depth=1)\n",
      "0.927536231884058 \t 0.8695652173913043\n"
     ]
    }
   ],
   "source": [
    "print('------------------ Precision ------------------')\n",
    "print('----------------------------------------------')\n",
    "print('Decision Tree\\t\\t Decision Tree (Depth=1)')\n",
    "print(metrics.precision_score(y_test, y_pred), '\\t', metrics.precision_score(y_test, y_pred1))\n",
    "\n",
    "print('------------------ Recall ------------------')\n",
    "print('----------------------------------------------')\n",
    "print('Decision Tree\\t\\t Decision Tree (Depth=1)')\n",
    "print(metrics.recall_score(y_test, y_pred), '\\t', metrics.recall_score(y_test, y_pred1))"
   ]
  },
  {
   "cell_type": "markdown",
   "metadata": {},
   "source": [
    "### Classification Report"
   ]
  },
  {
   "cell_type": "code",
   "execution_count": 19,
   "metadata": {},
   "outputs": [
    {
     "name": "stdout",
     "output_type": "stream",
     "text": [
      "---------------- Classification Report ----------------\n",
      "------------------- Decision Tree -------------------\n",
      "              precision    recall  f1-score   support\n",
      "\n",
      "           0       0.89      0.93      0.91        45\n",
      "           1       0.96      0.93      0.94        69\n",
      "\n",
      "    accuracy                           0.93       114\n",
      "   macro avg       0.92      0.93      0.93       114\n",
      "weighted avg       0.93      0.93      0.93       114\n",
      "\n",
      "-------------- Decision Tree (Depth=1) --------------\n",
      "              precision    recall  f1-score   support\n",
      "\n",
      "           0       0.82      0.91      0.86        45\n",
      "           1       0.94      0.87      0.90        69\n",
      "\n",
      "    accuracy                           0.89       114\n",
      "   macro avg       0.88      0.89      0.88       114\n",
      "weighted avg       0.89      0.89      0.89       114\n",
      "\n"
     ]
    }
   ],
   "source": [
    "print('---------------- Classification Report ----------------')\n",
    "print('------------------- Decision Tree -------------------')\n",
    "print(metrics.classification_report(y_test, y_pred))\n",
    "print('-------------- Decision Tree (Depth=1) --------------')\n",
    "print(metrics.classification_report(y_test, y_pred1))"
   ]
  },
  {
   "cell_type": "markdown",
   "metadata": {},
   "source": [
    "### Confusion Matrix"
   ]
  },
  {
   "cell_type": "code",
   "execution_count": 20,
   "metadata": {},
   "outputs": [
    {
     "name": "stdout",
     "output_type": "stream",
     "text": [
      "---------------- Confusion Matrix ----------------\n",
      "------------------- Decision Tree -------------------\n",
      "[[42  3]\n",
      " [ 5 64]]\n",
      "-------------- Decision Tree (Depth=1) --------------\n",
      "[[41  4]\n",
      " [ 9 60]]\n"
     ]
    }
   ],
   "source": [
    "print('---------------- Confusion Matrix ----------------')\n",
    "print('------------------- Decision Tree -------------------')\n",
    "print(metrics.confusion_matrix(y_test, y_pred))\n",
    "print('-------------- Decision Tree (Depth=1) --------------')\n",
    "print(metrics.confusion_matrix(y_test, y_pred1))"
   ]
  },
  {
   "cell_type": "markdown",
   "metadata": {},
   "source": [
    "### ROC Curve"
   ]
  },
  {
   "cell_type": "code",
   "execution_count": 21,
   "metadata": {},
   "outputs": [
    {
     "data": {
      "image/png": "[encoded data removed]",
      "text/plain": [
       "<Figure size 432x288 with 1 Axes>"
      ]
     },
     "metadata": {
      "needs_background": "light"
     },
     "output_type": "display_data"
    }
   ],
   "source": [
    "plt.figure()\n",
    "lw = 2\n",
    "plt.plot(fpr, tpr, color='green', lw=lw, label='DT (area = %0.2f)' % metrics.auc(fpr, tpr))\n",
    "plt.plot([0, 1], [0, 1], color='navy', lw=lw, linestyle='--')\n",
    "plt.xlim([0.0, 1.0])\n",
    "plt.ylim([0.0, 1.05])\n",
    "plt.xlabel('False Positive Rate')\n",
    "plt.ylabel('True Positive Rate')\n",
    "plt.title('ROC for Decision Tree')\n",
    "plt.legend(loc=\"lower right\")\n",
    "\n",
    "plt.plot(fpr1, tpr1, color='darkorange', lw=lw, label='DT(d=1) (area = %0.2f)' % metrics.auc(fpr1, tpr1))\n",
    "plt.plot([0, 1], [0, 1], color='navy', lw=lw, linestyle='--')\n",
    "plt.xlim([0.0, 1.0])\n",
    "plt.ylim([0.0, 1.05])\n",
    "plt.xlabel('False Positive Rate')\n",
    "plt.ylabel('True Positive Rate')\n",
    "plt.title('ROC for Decision Tree (Depth=1)')\n",
    "plt.legend(loc=\"lower right\")\n",
    "plt.show()"
   ]
  },
  {
   "cell_type": "markdown",
   "metadata": {},
   "source": [
    "### Precision/Recall Curve"
   ]
  },
  {
   "cell_type": "code",
   "execution_count": 22,
   "metadata": {},
   "outputs": [
    {
     "data": {
      "image/png": "[encoded data removed]",
      "text/plain": [
       "<Figure size 432x288 with 1 Axes>"
      ]
     },
     "metadata": {
      "needs_background": "light"
     },
     "output_type": "display_data"
    },
    {
     "data": {
      "image/png": "[encoded data removed]",
      "text/plain": [
       "<Figure size 432x288 with 1 Axes>"
      ]
     },
     "metadata": {
      "needs_background": "light"
     },
     "output_type": "display_data"
    }
   ],
   "source": [
    "average_precision = metrics.average_precision_score(y_test, y_pred)\n",
    "disp = metrics.plot_precision_recall_curve(clf, X_test, y_test)\n",
    "disp.ax_.set_title('DT Precision-Recall curve: '\n",
    "                   'AP={0:0.2f}'.format(average_precision))\n",
    "\n",
    "\n",
    "average_precision1 = metrics.average_precision_score(y_test, y_pred1)\n",
    "disp1 = metrics.plot_precision_recall_curve(clf1, X_test, y_test)\n",
    "disp1.ax_.set_title('DT(d=1) Precision-Recall curve: '\n",
    "                   'AP={0:0.2f}'.format(average_precision1))\n",
    "\n",
    "plt.show()"
   ]
  }
 ],
 "metadata": {
  "colab": {
   "name": "M08-v2.ipynb",
   "provenance": []
  },
  "kernelspec": {
   "display_name": "Python 3",
   "language": "python",
   "name": "python3"
  },
  "language_info": {
   "codemirror_mode": {
    "name": "ipython",
    "version": 3
   },
   "file_extension": ".py",
   "mimetype": "text/x-python",
   "name": "python",
   "nbconvert_exporter": "python",
   "pygments_lexer": "ipython3",
   "version": "3.6.10"
  }
 },
 "nbformat": 4,
 "nbformat_minor": 4
}
