{
 "cells": [
  {
   "cell_type": "markdown",
   "metadata": {},
   "source": [
    "# Wangyinan-coursework2"
   ]
  },
  {
   "cell_type": "markdown",
   "metadata": {},
   "source": [
    "1 Iris Dataset"
   ]
  },
  {
   "cell_type": "code",
   "execution_count": 1,
   "outputs": [],
   "source": [
    "import pandas as pd\n",
    "\n",
    "names = ['sepalLength', 'sepalWidth', 'petalLength', 'petalWidth', 'class']\n",
    "iris = pd.read_csv('iris.data', sep=',',names=names)"
   ],
   "metadata": {
    "collapsed": false,
    "pycharm": {
     "name": "#%%\n"
    }
   }
  },
  {
   "cell_type": "markdown",
   "metadata": {},
   "source": [
    "1.1 Summary Statistics"
   ]
  },
  {
   "cell_type": "markdown",
   "source": [
    "minimum value\n"
   ],
   "metadata": {
    "collapsed": false
   }
  },
  {
   "cell_type": "code",
   "execution_count": 2,
   "outputs": [
    {
     "data": {
      "text/plain": "sepalLength            4.3\nsepalWidth               2\npetalLength              1\npetalWidth             0.1\nclass          Iris-setosa\ndtype: object"
     },
     "execution_count": 2,
     "metadata": {},
     "output_type": "execute_result"
    }
   ],
   "source": [
    "iris.min()"
   ],
   "metadata": {
    "collapsed": false,
    "pycharm": {
     "name": "#%%\n"
    }
   }
  },
  {
   "cell_type": "markdown",
   "source": [
    "maximun value\n"
   ],
   "metadata": {
    "collapsed": false
   }
  },
  {
   "cell_type": "code",
   "execution_count": 3,
   "outputs": [
    {
     "data": {
      "text/plain": "sepalLength               7.9\nsepalWidth                4.4\npetalLength               6.9\npetalWidth                2.5\nclass          Iris-virginica\ndtype: object"
     },
     "execution_count": 3,
     "metadata": {},
     "output_type": "execute_result"
    }
   ],
   "source": [
    "iris.max()"
   ],
   "metadata": {
    "collapsed": false,
    "pycharm": {
     "name": "#%%\n"
    }
   }
  },
  {
   "cell_type": "markdown",
   "source": [
    "mean"
   ],
   "metadata": {
    "collapsed": false
   }
  },
  {
   "cell_type": "code",
   "execution_count": 4,
   "outputs": [
    {
     "data": {
      "text/plain": "sepalLength    5.843333\nsepalWidth     3.054000\npetalLength    3.758667\npetalWidth     1.198667\ndtype: float64"
     },
     "execution_count": 4,
     "metadata": {},
     "output_type": "execute_result"
    }
   ],
   "source": [
    "iris.mean()"
   ],
   "metadata": {
    "collapsed": false,
    "pycharm": {
     "name": "#%%\n"
    }
   }
  },
  {
   "cell_type": "markdown",
   "source": [
    "range"
   ],
   "metadata": {
    "collapsed": false
   }
  },
  {
   "cell_type": "code",
   "execution_count": 5,
   "outputs": [
    {
     "name": "stdout",
     "output_type": "stream",
     "text": [
      "sepalLength[4.3,7.9]\n",
      "sepalWidth[2.0,4.4]\n",
      "petalLength[1.0,6.9]\n",
      "petalWidth[0.1,2.5]\n",
      "class[Iris-setosa,Iris-virginica]\n"
     ]
    }
   ],
   "source": [
    "for item in names:\n",
    "    print(item+\"[\"+str(iris[item].min())+\",\"+str(iris[item].max())+\"]\")\n"
   ],
   "metadata": {
    "collapsed": false,
    "pycharm": {
     "name": "#%%\n"
    }
   }
  },
  {
   "cell_type": "markdown",
   "source": [
    "standard deviation"
   ],
   "metadata": {
    "collapsed": false
   }
  },
  {
   "cell_type": "code",
   "execution_count": 6,
   "outputs": [
    {
     "data": {
      "text/plain": "sepalLength    0.828066\nsepalWidth     0.433594\npetalLength    1.764420\npetalWidth     0.763161\ndtype: float64"
     },
     "execution_count": 6,
     "metadata": {},
     "output_type": "execute_result"
    }
   ],
   "source": [
    "iris.std()"
   ],
   "metadata": {
    "collapsed": false,
    "pycharm": {
     "name": "#%%\n"
    }
   }
  },
  {
   "cell_type": "markdown",
   "source": [
    "variance\n"
   ],
   "metadata": {
    "collapsed": false
   }
  },
  {
   "cell_type": "code",
   "execution_count": 7,
   "outputs": [
    {
     "data": {
      "text/plain": "sepalLength    0.685694\nsepalWidth     0.188004\npetalLength    3.113179\npetalWidth     0.582414\ndtype: float64"
     },
     "execution_count": 7,
     "metadata": {},
     "output_type": "execute_result"
    }
   ],
   "source": [
    "iris.var()\n"
   ],
   "metadata": {
    "collapsed": false,
    "pycharm": {
     "name": "#%%\n"
    }
   }
  },
  {
   "cell_type": "markdown",
   "source": [
    "count\n"
   ],
   "metadata": {
    "collapsed": false
   }
  },
  {
   "cell_type": "code",
   "execution_count": 8,
   "outputs": [
    {
     "data": {
      "text/plain": "sepalLength    150\nsepalWidth     150\npetalLength    150\npetalWidth     150\nclass          150\ndtype: int64"
     },
     "execution_count": 8,
     "metadata": {},
     "output_type": "execute_result"
    }
   ],
   "source": [
    "iris.count()"
   ],
   "metadata": {
    "collapsed": false,
    "pycharm": {
     "name": "#%%\n"
    }
   }
  },
  {
   "cell_type": "markdown",
   "source": [
    "percentiles"
   ],
   "metadata": {
    "collapsed": false
   }
  },
  {
   "cell_type": "code",
   "execution_count": 9,
   "outputs": [
    {
     "data": {
      "text/plain": "sepalLength    6.4\nsepalWidth     3.3\npetalLength    5.1\npetalWidth     1.8\nName: 0.75, dtype: float64"
     },
     "execution_count": 9,
     "metadata": {},
     "output_type": "execute_result"
    }
   ],
   "source": [
    "iris.quantile(q=0.25)\n",
    "iris.quantile(q=0.5)\n",
    "iris.quantile(q=0.75)\n"
   ],
   "metadata": {
    "collapsed": false,
    "pycharm": {
     "name": "#%%\n"
    }
   }
  },
  {
   "cell_type": "markdown",
   "source": [
    "1.2 Data Visualization"
   ],
   "metadata": {
    "collapsed": false
   }
  },
  {
   "cell_type": "markdown",
   "metadata": {},
   "source": [
    "Histograms: To illustrate the feature distributions, create a histogram for each feature in\n",
    "the dataset. You may plot each histogram individually or combine them all into a single plot.\n",
    "When generating histograms for this assignment, use the default number of bins. Recall that\n",
    "a histogram provides a graphical representation of the distribution of the data."
   ]
  },
  {
   "cell_type": "code",
   "execution_count": 10,
   "metadata": {
    "collapsed": false
   },
   "outputs": [
    {
     "data": {
      "text/plain": "<Figure size 640x480 with 4 Axes>"
     },
     "metadata": {},
     "output_type": "display_data"
    }
   ],
   "source": [
    "import matplotlib.pyplot as plt\n",
    "features=iris[['sepalLength', 'sepalWidth', 'petalLength', 'petalWidth']]\n",
    "labels='sepalLength', 'sepalWidth', 'petalLength', 'petalWidth'\n",
    "plt.figure()\n",
    "plt.subplot(221)\n",
    "plt.hist(iris['sepalLength'])\n",
    "plt.xlabel(\"sepalLength\")\n",
    "plt.subplot(222)\n",
    "plt.hist(iris['sepalWidth'])\n",
    "plt.xlabel(\"sepalWidth\")\n",
    "plt.subplot(223)\n",
    "plt.hist(iris['petalLength'])\n",
    "plt.xlabel(\"petalLength\")\n",
    "plt.subplot(224)\n",
    "plt.hist(iris['petalWidth'])\n",
    "plt.xlabel(\"petalWidth\")\n",
    "plt.show()"
   ]
  },
  {
   "cell_type": "markdown",
   "metadata": {},
   "source": [
    "Box Plots: To further understand the data, create a boxplot for each feature in the dataset.\n",
    "Present all the boxplots into a single plot. Recall that a boxplot provides a graphical representation\n",
    "of the location and variation of the data through their quartiles; they are especially\n",
    "useful for comparing distributions and identifying outliers."
   ]
  },
  {
   "cell_type": "code",
   "execution_count": 11,
   "metadata": {
    "collapsed": false
   },
   "outputs": [
    {
     "data": {
      "text/plain": "<Figure size 432x288 with 1 Axes>",
      "image/png": "[encoded data removed]"
     },
     "metadata": {
      "needs_background": "light"
     },
     "output_type": "display_data"
    }
   ],
   "source": [
    "plt.figure()\n",
    "plt.boxplot([iris['sepalLength'],iris['sepalWidth'],iris['petalLength'],iris['petalWidth']],labels=labels)\n",
    "plt.show()"
   ]
  },
  {
   "cell_type": "markdown",
   "metadata": {},
   "source": [
    "Pairwise Plot: To understand the relationship between the features, create a scatter plot for\n",
    "each pair of the features. If there are are n features in the dataset, there should be nC2 plots."
   ]
  },
  {
   "cell_type": "code",
   "execution_count": 12,
   "outputs": [
    {
     "data": {
      "text/plain": "<Figure size 432x288 with 16 Axes>",
      "image/png": "[encoded data removed]"
     },
     "metadata": {
      "needs_background": "light"
     },
     "output_type": "display_data"
    }
   ],
   "source": [
    "plt.figure()\n",
    "i=1\n",
    "for item1 in features:\n",
    "    for item2 in features:\n",
    "        plt.subplot(4,4,i)\n",
    "        i+=1\n",
    "        plt.scatter(iris[item1],iris[item2])\n",
    "        plt.xlabel(item1)\n",
    "        plt.ylabel(item2)\n",
    "plt.show()"
   ],
   "metadata": {
    "collapsed": false,
    "pycharm": {
     "name": "#%%\n"
    }
   }
  },
  {
   "cell_type": "markdown",
   "metadata": {
    "collapsed": false,
    "pycharm": {
     "name": "#%% md\n"
    }
   },
   "source": [
    "Class-wise Visualization: Create histograms for each feature in a similar way for each of\n",
    "the different classes present in the data."
   ]
  },
  {
   "cell_type": "code",
   "execution_count": 13,
   "outputs": [
    {
     "data": {
      "text/plain": "<Figure size 432x288 with 12 Axes>",
      "image/png": "[encoded data removed]"
     },
     "metadata": {
      "needs_background": "light"
     },
     "output_type": "display_data"
    }
   ],
   "source": [
    "plt.figure()\n",
    "i=1\n",
    "for item in features:\n",
    "    plt.subplot(3,4,i)\n",
    "    plt.hist(iris[iris['class']==\"Iris-setosa\"][item])\n",
    "    plt.ylabel(\"Iris-setosa\")\n",
    "    plt.xlabel(item)\n",
    "    plt.subplot(3,4,i+4)\n",
    "    plt.hist(iris[iris['class']==\"Iris-versicolor\"][item])\n",
    "    plt.ylabel(\"Iris-versicolor\")\n",
    "    plt.xlabel(item)\n",
    "    plt.subplot(3,4,i+8)\n",
    "    plt.hist(iris[iris['class']==\"Iris-virginica\"][item])\n",
    "    plt.ylabel(\"Iris-virginica\")\n",
    "    plt.xlabel(item)\n",
    "    i+=1\n",
    "plt.show()"
   ],
   "metadata": {
    "collapsed": false,
    "pycharm": {
     "name": "#%%\n"
    }
   }
  },
  {
   "cell_type": "markdown",
   "source": [
    "1.3 Conceptual Questions"
   ],
   "metadata": {
    "collapsed": false
   }
  },
  {
   "cell_type": "markdown",
   "source": [
    "1. How many features are there? What are the Types of the features (e.g., numeric,\n",
    "nominal, discrete, continuous)?"
   ],
   "metadata": {
    "collapsed": false
   }
  },
  {
   "cell_type": "markdown",
   "source": [
    "There are five features. Four of them are numeric features and one is string features."
   ],
   "metadata": {
    "collapsed": false
   }
  },
  {
   "cell_type": "markdown",
   "source": [
    "2. From the histograms of the whole data, how do the shapes of the histograms for petal\n",
    "length and petal width differ from those for sepal length and sepal width? Is there a\n",
    "particular value of petal length (which ranges from 1.0 to 6.9) where the distribution of\n",
    "petal lengths (as illustrated by the histogram) could be best segmented into two parts?"
   ],
   "metadata": {
    "collapsed": false
   }
  },
  {
   "cell_type": "markdown",
   "source": [
    "The histograms for petal length and petal width are higher at the edge and lower at the center.\n",
    "The histograms for sepal length and sepal width are higher at the center and lower at the edge.\n",
    "The particular values of petal length are zero and more than 30.\n",
    "In about 2.2, pental lengths could be best segmented."
   ],
   "metadata": {
    "collapsed": false
   }
  },
  {
   "cell_type": "markdown",
   "source": [
    "3. Based upon these boxplots, is there a pair of features that appear to have significantly\n",
    "different medians? Recall that the degree of overlap between variability is an important\n",
    "initial indicator of the likelihood that differences in means or medians are meaningful.\n",
    "Also, based solely upon the box plots, which feature appears to explain the greatest\n",
    "amount of the data?"
   ],
   "metadata": {
    "collapsed": false,
    "pycharm": {
     "name": "#%% md\n"
    }
   }
  },
  {
   "cell_type": "markdown",
   "source": [
    "Sepal length. petal length"
   ],
   "metadata": {
    "collapsed": false
   }
  },
  {
   "cell_type": "markdown",
   "source": [
    "4. From the pairwise plots of the features, which features are most correlated from the\n",
    "plots? Mention at least three pairs."
   ],
   "metadata": {
    "collapsed": false
   }
  },
  {
   "cell_type": "markdown",
   "source": [
    "sepallength and sepalwidth, sepal width and depallength, petal width and sepal length"
   ],
   "metadata": {
    "collapsed": false
   }
  },
  {
   "cell_type": "markdown",
   "source": [
    "5. Compare the histograms of each class to the histograms of the whole dataset. What\n",
    "differences do you see in the shapes?"
   ],
   "metadata": {
    "collapsed": false
   }
  },
  {
   "cell_type": "markdown",
   "source": [
    "The histograms of each class are higher at the center\n",
    "While some of the histograms of the whole dataset are higher at the edge"
   ],
   "metadata": {
    "collapsed": false
   }
  },
  {
   "cell_type": "markdown",
   "source": [
    "2 Air Quality Dataset"
   ],
   "metadata": {
    "collapsed": false
   }
  },
  {
   "cell_type": "code",
   "execution_count": 14,
   "outputs": [],
   "source": [
    "import pandas as pd\n",
    "air = pd.read_excel('AirQualityUCI.xlsx')"
   ],
   "metadata": {
    "collapsed": false,
    "pycharm": {
     "name": "#%%\n"
    }
   }
  },
  {
   "cell_type": "markdown",
   "source": [
    "2.1 Summary Statistics"
   ],
   "metadata": {
    "collapsed": false
   }
  },
  {
   "cell_type": "markdown",
   "source": [
    "minimum value"
   ],
   "metadata": {
    "collapsed": false
   }
  },
  {
   "cell_type": "code",
   "execution_count": 15,
   "outputs": [
    {
     "data": {
      "text/plain": "Date             2004-03-10 00:00:00\nTime                        00:00:00\nCO(GT)                          -200\nPT08.S1(CO)                     -200\nNMHC(GT)                        -200\nC6H6(GT)                        -200\nPT08.S2(NMHC)                   -200\nNOx(GT)                         -200\nPT08.S3(NOx)                    -200\nNO2(GT)                         -200\nPT08.S4(NO2)                    -200\nPT08.S5(O3)                     -200\nT                               -200\nRH                              -200\nAH                              -200\ndtype: object"
     },
     "execution_count": 15,
     "metadata": {},
     "output_type": "execute_result"
    }
   ],
   "source": [
    "air.min()"
   ],
   "metadata": {
    "collapsed": false,
    "pycharm": {
     "name": "#%%\n"
    }
   }
  },
  {
   "cell_type": "markdown",
   "source": [
    "maximun value"
   ],
   "metadata": {
    "collapsed": false
   }
  },
  {
   "cell_type": "code",
   "execution_count": 16,
   "outputs": [
    {
     "data": {
      "text/plain": "Date             2005-04-04 00:00:00\nTime                        23:00:00\nCO(GT)                          11.9\nPT08.S1(CO)                  2039.75\nNMHC(GT)                        1189\nC6H6(GT)                     63.7415\nPT08.S2(NMHC)                   2214\nNOx(GT)                         1479\nPT08.S3(NOx)                 2682.75\nNO2(GT)                        339.7\nPT08.S4(NO2)                    2775\nPT08.S5(O3)                  2522.75\nT                               44.6\nRH                            88.725\nAH                           2.23104\ndtype: object"
     },
     "execution_count": 16,
     "metadata": {},
     "output_type": "execute_result"
    }
   ],
   "source": [
    "air.max()"
   ],
   "metadata": {
    "collapsed": false,
    "pycharm": {
     "name": "#%%\n"
    }
   }
  },
  {
   "cell_type": "markdown",
   "source": [
    "mean"
   ],
   "metadata": {
    "collapsed": false
   }
  },
  {
   "cell_type": "code",
   "execution_count": 17,
   "outputs": [
    {
     "data": {
      "text/plain": "CO(GT)            -34.207524\nPT08.S1(CO)      1048.869652\nNMHC(GT)         -159.090093\nC6H6(GT)            1.865576\nPT08.S2(NMHC)     894.475963\nNOx(GT)           168.604200\nPT08.S3(NOx)      794.872333\nNO2(GT)            58.135898\nPT08.S4(NO2)     1391.363266\nPT08.S5(O3)       974.951534\nT                   9.776600\nRH                 39.483611\nAH                 -6.837604\ndtype: float64"
     },
     "execution_count": 17,
     "metadata": {},
     "output_type": "execute_result"
    }
   ],
   "source": [
    "air[air.columns[1:]].mean()"
   ],
   "metadata": {
    "collapsed": false,
    "pycharm": {
     "name": "#%%\n"
    }
   }
  },
  {
   "cell_type": "markdown",
   "source": [
    "range"
   ],
   "metadata": {
    "collapsed": false
   }
  },
  {
   "cell_type": "code",
   "execution_count": 19,
   "outputs": [
    {
     "name": "stdout",
     "output_type": "stream",
     "text": [
      "Date[2004-03-10 00:00:00,2005-04-04 00:00:00]\n",
      "Time[00:00:00,23:00:00]\n",
      "CO(GT)[-200.0,11.9]\n",
      "PT08.S1(CO)[-200.0,2039.75]\n",
      "NMHC(GT)[-200,1189]\n",
      "C6H6(GT)[-200.0,63.74147644829163]\n",
      "PT08.S2(NMHC)[-200.0,2214.0]\n",
      "NOx(GT)[-200.0,1479.0]\n",
      "PT08.S3(NOx)[-200.0,2682.75]\n",
      "NO2(GT)[-200.0,339.7]\n",
      "PT08.S4(NO2)[-200.0,2775.0]\n",
      "PT08.S5(O3)[-200.0,2522.75]\n",
      "T[-200.0,44.60000038147]\n",
      "RH[-200.0,88.72500038147]\n",
      "AH[-200.0,2.2310357155831864]\n"
     ]
    }
   ],
   "source": [
    "for item in air.columns:\n",
    "    print(item+\"[\"+str(air[item].min())+\",\"+str(air[item].max())+\"]\")\n"
   ],
   "metadata": {
    "collapsed": false,
    "pycharm": {
     "name": "#%%\n"
    }
   }
  },
  {
   "cell_type": "markdown",
   "source": [
    "standard deviation"
   ],
   "metadata": {
    "collapsed": false
   }
  },
  {
   "cell_type": "code",
   "execution_count": 20,
   "outputs": [
    {
     "data": {
      "text/plain": "CO(GT)            77.657170\nPT08.S1(CO)      329.817015\nNMHC(GT)         139.789093\nC6H6(GT)          41.380154\nPT08.S2(NMHC)    342.315902\nNOx(GT)          257.424561\nPT08.S3(NOx)     321.977031\nNO2(GT)          126.931428\nPT08.S4(NO2)     467.192382\nPT08.S5(O3)      456.922728\nT                 43.203438\nRH                51.215645\nAH                38.976670\ndtype: float64"
     },
     "execution_count": 20,
     "metadata": {},
     "output_type": "execute_result"
    }
   ],
   "source": [
    "air.std()"
   ],
   "metadata": {
    "collapsed": false,
    "pycharm": {
     "name": "#%%\n"
    }
   }
  },
  {
   "cell_type": "markdown",
   "source": [
    "variance"
   ],
   "metadata": {
    "collapsed": false
   }
  },
  {
   "cell_type": "code",
   "execution_count": 21,
   "outputs": [
    {
     "data": {
      "text/plain": "CO(GT)             6030.636106\nPT08.S1(CO)      108779.263095\nNMHC(GT)          19540.990493\nC6H6(GT)           1712.317143\nPT08.S2(NMHC)    117180.176653\nNOx(GT)           66267.404793\nPT08.S3(NOx)     103669.208719\nNO2(GT)           16111.587462\nPT08.S4(NO2)     218268.721729\nPT08.S5(O3)      208778.379165\nT                  1866.537024\nRH                 2623.042273\nAH                 1519.180817\ndtype: float64"
     },
     "execution_count": 21,
     "metadata": {},
     "output_type": "execute_result"
    }
   ],
   "source": [
    "air.var()\n"
   ],
   "metadata": {
    "collapsed": false,
    "pycharm": {
     "name": "#%%\n"
    }
   }
  },
  {
   "cell_type": "markdown",
   "source": [
    "count"
   ],
   "metadata": {
    "collapsed": false
   }
  },
  {
   "cell_type": "code",
   "execution_count": 22,
   "outputs": [
    {
     "data": {
      "text/plain": "Date             9357\nTime             9357\nCO(GT)           9357\nPT08.S1(CO)      9357\nNMHC(GT)         9357\nC6H6(GT)         9357\nPT08.S2(NMHC)    9357\nNOx(GT)          9357\nPT08.S3(NOx)     9357\nNO2(GT)          9357\nPT08.S4(NO2)     9357\nPT08.S5(O3)      9357\nT                9357\nRH               9357\nAH               9357\ndtype: int64"
     },
     "execution_count": 22,
     "metadata": {},
     "output_type": "execute_result"
    }
   ],
   "source": [
    "air.count()"
   ],
   "metadata": {
    "collapsed": false,
    "pycharm": {
     "name": "#%%\n"
    }
   }
  },
  {
   "cell_type": "markdown",
   "source": [
    "percentiles"
   ],
   "metadata": {
    "collapsed": false
   }
  },
  {
   "cell_type": "code",
   "execution_count": 23,
   "outputs": [
    {
     "data": {
      "text/plain": "CO(GT)              2.600000\nPT08.S1(CO)      1221.250000\nNMHC(GT)         -200.000000\nC6H6(GT)           13.636091\nPT08.S2(NMHC)    1104.750000\nNOx(GT)           284.200000\nPT08.S3(NOx)      960.250000\nNO2(GT)           133.000000\nPT08.S4(NO2)     1662.000000\nPT08.S5(O3)      1255.250000\nT                  24.075000\nRH                 61.875000\nAH                  1.296223\nName: 0.75, dtype: float64"
     },
     "execution_count": 23,
     "metadata": {},
     "output_type": "execute_result"
    }
   ],
   "source": [
    "air.quantile(q=0.25)\n",
    "air.quantile(q=0.5)\n",
    "air.quantile(q=0.75)"
   ],
   "metadata": {
    "collapsed": false,
    "pycharm": {
     "name": "#%%\n"
    }
   }
  },
  {
   "cell_type": "markdown",
   "source": [
    "2.2 Data Visualization"
   ],
   "metadata": {
    "collapsed": false
   }
  },
  {
   "cell_type": "markdown",
   "source": [
    "historgrams with outliers"
   ],
   "metadata": {
    "collapsed": false
   }
  },
  {
   "cell_type": "code",
   "execution_count": 24,
   "outputs": [
    {
     "data": {
      "text/plain": "<Figure size 432x288 with 13 Axes>",
      "image/png": "[encoded data removed]"
     },
     "metadata": {
      "needs_background": "light"
     },
     "output_type": "display_data"
    }
   ],
   "source": [
    "import matplotlib.pyplot as plt\n",
    "plt.figure()\n",
    "i=1\n",
    "for item in air.columns[2:]:\n",
    "    plt.subplot(3,5,i)\n",
    "    plt.hist(air[item])\n",
    "    i+=1\n",
    "plt.show()\n"
   ],
   "metadata": {
    "collapsed": false,
    "pycharm": {
     "name": "#%%\n"
    }
   }
  },
  {
   "cell_type": "markdown",
   "source": [
    "boxplots without outliers"
   ],
   "metadata": {
    "collapsed": false
   }
  },
  {
   "cell_type": "code",
   "execution_count": 25,
   "outputs": [
    {
     "data": {
      "text/plain": "<Figure size 432x288 with 1 Axes>",
      "image/png": "[encoded data removed]"
     },
     "metadata": {
      "needs_background": "light"
     },
     "output_type": "display_data"
    }
   ],
   "source": [
    "features=air.columns[2:]\n",
    "plt.figure()\n",
    "plt.boxplot([air[features[0]],air[features[1]],air[features[2]],air[features[3]],air[features[4]],air[features[5]],air[features[6]],air[features[7]],air[features[8]],air[features[9]],air[features[10]],air[features[11]],air[features[12]]])\n",
    "plt.show()"
   ],
   "metadata": {
    "collapsed": false,
    "pycharm": {
     "name": "#%%\n"
    }
   }
  },
  {
   "cell_type": "markdown",
   "source": [
    "boxplots with outliers\n"
   ],
   "metadata": {
    "collapsed": false
   }
  },
  {
   "cell_type": "code",
   "execution_count": 26,
   "outputs": [
    {
     "data": {
      "text/plain": "<Figure size 432x288 with 1 Axes>",
      "image/png": "[encoded data removed]"
     },
     "metadata": {
      "needs_background": "light"
     },
     "output_type": "display_data"
    }
   ],
   "source": [
    "plt.figure()\n",
    "plt.boxplot([air[features[0]],air[features[1]],air[features[2]],air[features[3]],air[features[4]],air[features[5]],air[features[6]],air[features[7]],air[features[8]],air[features[9]],air[features[10]],air[features[11]],air[features[12]]],showfliers=False)\n",
    "plt.show()"
   ],
   "metadata": {
    "collapsed": false,
    "pycharm": {
     "name": "#%%\n"
    }
   }
  },
  {
   "cell_type": "markdown",
   "source": [
    "2.2 Data Visualization"
   ],
   "metadata": {
    "collapsed": false
   }
  },
  {
   "cell_type": "code",
   "execution_count": 28,
   "outputs": [
    {
     "data": {
      "text/plain": "CO(GT)            -33.451844\nPT08.S1(CO)      1098.246709\nNMHC(GT)         -160.317944\nC6H6(GT)           10.011073\nPT08.S2(NMHC)     937.862020\nNOx(GT)           162.834931\nPT08.S3(NOx)      834.204508\nNO2(GT)            58.224741\nPT08.S4(NO2)     1456.386983\nPT08.S5(O3)      1020.464706\nT                  18.293017\nRH                 49.242447\nAH                  1.024218\ndtype: float64"
     },
     "execution_count": 28,
     "metadata": {},
     "output_type": "execute_result"
    }
   ],
   "source": [
    "air[air.columns[1:]].mean()"
   ],
   "metadata": {
    "collapsed": false,
    "pycharm": {
     "name": "#%%\n"
    }
   }
  },
  {
   "cell_type": "markdown",
   "source": [
    "1. From the histograms, what abnormality can you see?"
   ],
   "metadata": {
    "collapsed": false,
    "pycharm": {
     "name": "#%% md\n"
    }
   }
  },
  {
   "cell_type": "markdown",
   "source": [
    "There are some histograms much higher than others."
   ],
   "metadata": {
    "collapsed": false
   }
  },
  {
   "cell_type": "markdown",
   "source": [
    "2. What abnormality can you see from the summary statistics?"
   ],
   "metadata": {
    "collapsed": false
   }
  },
  {
   "cell_type": "markdown",
   "source": [
    "The variance and deviation are abnormally high."
   ],
   "metadata": {
    "collapsed": false
   }
  },
  {
   "cell_type": "markdown",
   "source": [
    "3. How can you remove the abnormality from the data?"
   ],
   "metadata": {
    "collapsed": false
   }
  },
  {
   "cell_type": "markdown",
   "source": [
    "Using the box chart approach, outliers exceeding the upper quartile by 1.5 times the distance or the lower quartile by 1.5 times the distance are counted as outliers, filled with the median"
   ],
   "metadata": {
    "collapsed": false
   }
  },
  {
   "cell_type": "markdown",
   "source": [
    "4. Show how the histograms look after removing the abnormalities from the data?"
   ],
   "metadata": {
    "collapsed": false
   }
  },
  {
   "cell_type": "code",
   "source": [
    "import numpy as np\n",
    "air = pd.read_excel('AirQualityUCI.xlsx')\n",
    "for item in air.columns[2:]:\n",
    "    a = air[item].quantile(0.75)\n",
    "    b = air[item].quantile(0.25)\n",
    "air[(air[item]>=(a-b)*1.5+a)|(air[item]<=b-(a-b)*1.5)]=np.nan\n",
    "air.fillna(air.median(),inplace=True)"
   ],
   "metadata": {
    "collapsed": false,
    "pycharm": {
     "name": "#%% \n"
    }
   },
   "execution_count": 27,
   "outputs": [
    {
     "name": "stderr",
     "output_type": "stream",
     "text": [
      "d:\\python3.7\\lib\\site-packages\\ipykernel_launcher.py:8: FutureWarning: DataFrame.mean and DataFrame.median with numeric_only=None will include datetime64 and datetime64tz columns in a future version.\n",
      "  \n"
     ]
    }
   ]
  }
 ],
 "metadata": {
  "kernelspec": {
   "name": "python3",
   "language": "python",
   "display_name": "Python 3"
  },
  "language_info": {
   "codemirror_mode": {
    "name": "ipython",
    "version": 2
   },
   "file_extension": ".py",
   "mimetype": "text/x-python",
   "name": "python",
   "nbconvert_exporter": "python",
   "pygments_lexer": "ipython2",
   "version": "2.7.11"
  }
 },
 "nbformat": 4,
 "nbformat_minor": 0
}